{
 "cells": [
  {
   "cell_type": "markdown",
   "metadata": {},
   "source": [
    "## Business Understanding\n",
    "### We need to understand the factors contributing to the success of startups in india ecosystem. \n"
   ]
  },
  {
   "cell_type": "markdown",
   "metadata": {},
   "source": [
    "### Hypothesis:\n",
    "* H0: Sector does not really contribute to the success of a Startup in India.\n",
    "* H1: Sector can contribute to the success of a Startup in India.\n"
   ]
  },
  {
   "cell_type": "markdown",
   "metadata": {},
   "source": [
    "## Data Understanding\n",
    "* The data we have is from years 2018 to 2021 from various startups in India and the amounts funded.\n",
    "* Through analysing the data we should be able to get a better insight into the ecosystem and the contributing factors."
   ]
  },
  {
   "cell_type": "markdown",
   "metadata": {},
   "source": [
    "#ASSUMPTIONS:\n",
    "\n",
    "* Amount for 2019 dataset is all in $\n",
    "* 1 dollar = 70 INR in 2018"
   ]
  },
  {
   "cell_type": "code",
   "execution_count": 451,
   "metadata": {},
   "outputs": [],
   "source": [
    "# importing libraries\n",
    "\n",
    "from sqlalchemy import create_engine\n",
    "from dotenv import dotenv_values\n",
    "import os\n",
    "import pandas as pd\n",
    "import pyodbc\n",
    "import numpy as np\n",
    "import re\n",
    "import csv\n",
    "import warnings\n",
    "import matplotlib.pyplot as plt\n",
    "import seaborn as sns\n",
    "\n",
    "warnings.filterwarnings('ignore', category=UserWarning)\n",
    "\n"
   ]
  },
  {
   "cell_type": "markdown",
   "metadata": {},
   "source": [
    "### creating the login credentials"
   ]
  },
  {
   "cell_type": "code",
   "execution_count": 400,
   "metadata": {},
   "outputs": [],
   "source": [
    "# creating the login credentials\n",
    "\n",
    "credentials = dotenv_values('.env')\n",
    "\n",
    "USERNAME = credentials[\"USER\"]\n",
    "PASSWORD = credentials[\"PASS\"]\n",
    "SERV = credentials[\"SERVER\"]\n",
    "DB_NAME  = credentials[\"DBNAME\"]"
   ]
  },
  {
   "cell_type": "markdown",
   "metadata": {},
   "source": [
    "### Connection to the Database"
   ]
  },
  {
   "cell_type": "code",
   "execution_count": 401,
   "metadata": {},
   "outputs": [],
   "source": [
    "connection = f\"DRIVER={{SQL Server}};SERVER={SERV};DATABASE={DB_NAME};UID={USERNAME};PWD={PASSWORD}\"  # Connection to the Database"
   ]
  },
  {
   "cell_type": "code",
   "execution_count": 402,
   "metadata": {},
   "outputs": [],
   "source": [
    "conn = pyodbc.connect(connection)"
   ]
  },
  {
   "cell_type": "markdown",
   "metadata": {},
   "source": [
    "### To test connection"
   ]
  },
  {
   "cell_type": "code",
   "execution_count": 403,
   "metadata": {},
   "outputs": [],
   "source": [
    "# To test connection\n",
    "\n",
    "query20 = \"SELECT * FROM dbo.LP1_startup_funding2020\"\n",
    "query21 = \"SELECT * FROM dbo.LP1_startup_funding2021\"\n"
   ]
  },
  {
   "cell_type": "code",
   "execution_count": 404,
   "metadata": {},
   "outputs": [],
   "source": [
    "# To read the data\n",
    "\n",
    "df2018 = pd.read_csv('startup_funding2018.csv')\n",
    "df19 = pd.read_csv('startup_funding2019.csv')\n",
    "df20 = pd.read_sql(query20,conn)\n",
    "df21 = pd.read_sql(query20,conn)"
   ]
  },
  {
   "cell_type": "markdown",
   "metadata": {},
   "source": [
    "### Peek at the Tables"
   ]
  },
  {
   "cell_type": "code",
   "execution_count": 405,
   "metadata": {},
   "outputs": [
    {
     "data": {
      "text/html": [
       "<div>\n",
       "<style scoped>\n",
       "    .dataframe tbody tr th:only-of-type {\n",
       "        vertical-align: middle;\n",
       "    }\n",
       "\n",
       "    .dataframe tbody tr th {\n",
       "        vertical-align: top;\n",
       "    }\n",
       "\n",
       "    .dataframe thead th {\n",
       "        text-align: right;\n",
       "    }\n",
       "</style>\n",
       "<table border=\"1\" class=\"dataframe\">\n",
       "  <thead>\n",
       "    <tr style=\"text-align: right;\">\n",
       "      <th></th>\n",
       "      <th>Company_Brand</th>\n",
       "      <th>Founded</th>\n",
       "      <th>HeadQuarter</th>\n",
       "      <th>Sector</th>\n",
       "      <th>What_it_does</th>\n",
       "      <th>Founders</th>\n",
       "      <th>Investor</th>\n",
       "      <th>Amount</th>\n",
       "      <th>Stage</th>\n",
       "      <th>column10</th>\n",
       "    </tr>\n",
       "  </thead>\n",
       "  <tbody>\n",
       "    <tr>\n",
       "      <th>0</th>\n",
       "      <td>Aqgromalin</td>\n",
       "      <td>2019.0</td>\n",
       "      <td>Chennai</td>\n",
       "      <td>AgriTech</td>\n",
       "      <td>Cultivating Ideas for Profit</td>\n",
       "      <td>Prasanna Manogaran, Bharani C L</td>\n",
       "      <td>Angel investors</td>\n",
       "      <td>200000.0</td>\n",
       "      <td>None</td>\n",
       "      <td>None</td>\n",
       "    </tr>\n",
       "    <tr>\n",
       "      <th>1</th>\n",
       "      <td>Krayonnz</td>\n",
       "      <td>2019.0</td>\n",
       "      <td>Bangalore</td>\n",
       "      <td>EdTech</td>\n",
       "      <td>An academy-guardian-scholar centric ecosystem ...</td>\n",
       "      <td>Saurabh Dixit, Gurudutt Upadhyay</td>\n",
       "      <td>GSF Accelerator</td>\n",
       "      <td>100000.0</td>\n",
       "      <td>Pre-seed</td>\n",
       "      <td>None</td>\n",
       "    </tr>\n",
       "    <tr>\n",
       "      <th>2</th>\n",
       "      <td>PadCare Labs</td>\n",
       "      <td>2018.0</td>\n",
       "      <td>Pune</td>\n",
       "      <td>Hygiene management</td>\n",
       "      <td>Converting bio-hazardous waste to harmless waste</td>\n",
       "      <td>Ajinkya Dhariya</td>\n",
       "      <td>Venture Center</td>\n",
       "      <td>NaN</td>\n",
       "      <td>Pre-seed</td>\n",
       "      <td>None</td>\n",
       "    </tr>\n",
       "  </tbody>\n",
       "</table>\n",
       "</div>"
      ],
      "text/plain": [
       "  Company_Brand  Founded HeadQuarter              Sector  \\\n",
       "0    Aqgromalin   2019.0     Chennai            AgriTech   \n",
       "1      Krayonnz   2019.0   Bangalore              EdTech   \n",
       "2  PadCare Labs   2018.0        Pune  Hygiene management   \n",
       "\n",
       "                                        What_it_does  \\\n",
       "0                       Cultivating Ideas for Profit   \n",
       "1  An academy-guardian-scholar centric ecosystem ...   \n",
       "2   Converting bio-hazardous waste to harmless waste   \n",
       "\n",
       "                           Founders         Investor    Amount     Stage  \\\n",
       "0   Prasanna Manogaran, Bharani C L  Angel investors  200000.0      None   \n",
       "1  Saurabh Dixit, Gurudutt Upadhyay  GSF Accelerator  100000.0  Pre-seed   \n",
       "2                   Ajinkya Dhariya   Venture Center       NaN  Pre-seed   \n",
       "\n",
       "  column10  \n",
       "0     None  \n",
       "1     None  \n",
       "2     None  "
      ]
     },
     "execution_count": 405,
     "metadata": {},
     "output_type": "execute_result"
    }
   ],
   "source": [
    "df21.head(3)"
   ]
  },
  {
   "cell_type": "code",
   "execution_count": 406,
   "metadata": {},
   "outputs": [
    {
     "data": {
      "text/html": [
       "<div>\n",
       "<style scoped>\n",
       "    .dataframe tbody tr th:only-of-type {\n",
       "        vertical-align: middle;\n",
       "    }\n",
       "\n",
       "    .dataframe tbody tr th {\n",
       "        vertical-align: top;\n",
       "    }\n",
       "\n",
       "    .dataframe thead th {\n",
       "        text-align: right;\n",
       "    }\n",
       "</style>\n",
       "<table border=\"1\" class=\"dataframe\">\n",
       "  <thead>\n",
       "    <tr style=\"text-align: right;\">\n",
       "      <th></th>\n",
       "      <th>Company_Brand</th>\n",
       "      <th>Founded</th>\n",
       "      <th>HeadQuarter</th>\n",
       "      <th>Sector</th>\n",
       "      <th>What_it_does</th>\n",
       "      <th>Founders</th>\n",
       "      <th>Investor</th>\n",
       "      <th>Amount</th>\n",
       "      <th>Stage</th>\n",
       "      <th>column10</th>\n",
       "    </tr>\n",
       "  </thead>\n",
       "  <tbody>\n",
       "    <tr>\n",
       "      <th>1052</th>\n",
       "      <td>Purplle</td>\n",
       "      <td>2012.0</td>\n",
       "      <td>Mumbai</td>\n",
       "      <td>Cosmetics</td>\n",
       "      <td>Online makeup and beauty products retailer</td>\n",
       "      <td>Manish Taneja, Rahul Dash</td>\n",
       "      <td>Verlinvest</td>\n",
       "      <td>8000000.0</td>\n",
       "      <td>None</td>\n",
       "      <td>None</td>\n",
       "    </tr>\n",
       "    <tr>\n",
       "      <th>1053</th>\n",
       "      <td>Shuttl</td>\n",
       "      <td>2015.0</td>\n",
       "      <td>Delhi</td>\n",
       "      <td>Transport</td>\n",
       "      <td>App based bus aggregator serice</td>\n",
       "      <td>Amit Singh, Deepanshu Malviya</td>\n",
       "      <td>SIG Global India Fund LLP.</td>\n",
       "      <td>8043000.0</td>\n",
       "      <td>Series C</td>\n",
       "      <td>None</td>\n",
       "    </tr>\n",
       "    <tr>\n",
       "      <th>1054</th>\n",
       "      <td>Pando</td>\n",
       "      <td>2017.0</td>\n",
       "      <td>Chennai</td>\n",
       "      <td>Logitech</td>\n",
       "      <td>Networked logistics management software</td>\n",
       "      <td>Jayakrishnan, Abhijeet Manohar</td>\n",
       "      <td>Chiratae Ventures</td>\n",
       "      <td>9000000.0</td>\n",
       "      <td>Series A</td>\n",
       "      <td>None</td>\n",
       "    </tr>\n",
       "  </tbody>\n",
       "</table>\n",
       "</div>"
      ],
      "text/plain": [
       "     Company_Brand  Founded HeadQuarter     Sector  \\\n",
       "1052       Purplle   2012.0      Mumbai  Cosmetics   \n",
       "1053        Shuttl   2015.0       Delhi  Transport   \n",
       "1054         Pando   2017.0     Chennai   Logitech   \n",
       "\n",
       "                                    What_it_does  \\\n",
       "1052  Online makeup and beauty products retailer   \n",
       "1053             App based bus aggregator serice   \n",
       "1054     Networked logistics management software   \n",
       "\n",
       "                            Founders                    Investor     Amount  \\\n",
       "1052       Manish Taneja, Rahul Dash                  Verlinvest  8000000.0   \n",
       "1053   Amit Singh, Deepanshu Malviya  SIG Global India Fund LLP.  8043000.0   \n",
       "1054  Jayakrishnan, Abhijeet Manohar           Chiratae Ventures  9000000.0   \n",
       "\n",
       "         Stage column10  \n",
       "1052      None     None  \n",
       "1053  Series C     None  \n",
       "1054  Series A     None  "
      ]
     },
     "execution_count": 406,
     "metadata": {},
     "output_type": "execute_result"
    }
   ],
   "source": [
    "df20.tail(3)"
   ]
  },
  {
   "cell_type": "code",
   "execution_count": 407,
   "metadata": {},
   "outputs": [
    {
     "data": {
      "text/html": [
       "<div>\n",
       "<style scoped>\n",
       "    .dataframe tbody tr th:only-of-type {\n",
       "        vertical-align: middle;\n",
       "    }\n",
       "\n",
       "    .dataframe tbody tr th {\n",
       "        vertical-align: top;\n",
       "    }\n",
       "\n",
       "    .dataframe thead th {\n",
       "        text-align: right;\n",
       "    }\n",
       "</style>\n",
       "<table border=\"1\" class=\"dataframe\">\n",
       "  <thead>\n",
       "    <tr style=\"text-align: right;\">\n",
       "      <th></th>\n",
       "      <th>Company/Brand</th>\n",
       "      <th>Founded</th>\n",
       "      <th>HeadQuarter</th>\n",
       "      <th>Sector</th>\n",
       "      <th>What it does</th>\n",
       "      <th>Founders</th>\n",
       "      <th>Investor</th>\n",
       "      <th>Amount($)</th>\n",
       "      <th>Stage</th>\n",
       "    </tr>\n",
       "  </thead>\n",
       "  <tbody>\n",
       "    <tr>\n",
       "      <th>0</th>\n",
       "      <td>Bombay Shaving</td>\n",
       "      <td>NaN</td>\n",
       "      <td>NaN</td>\n",
       "      <td>Ecommerce</td>\n",
       "      <td>Provides a range of male grooming products</td>\n",
       "      <td>Shantanu Deshpande</td>\n",
       "      <td>Sixth Sense Ventures</td>\n",
       "      <td>$6,300,000</td>\n",
       "      <td>NaN</td>\n",
       "    </tr>\n",
       "    <tr>\n",
       "      <th>1</th>\n",
       "      <td>Ruangguru</td>\n",
       "      <td>2014.0</td>\n",
       "      <td>Mumbai</td>\n",
       "      <td>Edtech</td>\n",
       "      <td>A learning platform that provides topic-based ...</td>\n",
       "      <td>Adamas Belva Syah Devara, Iman Usman.</td>\n",
       "      <td>General Atlantic</td>\n",
       "      <td>$150,000,000</td>\n",
       "      <td>Series C</td>\n",
       "    </tr>\n",
       "    <tr>\n",
       "      <th>2</th>\n",
       "      <td>Eduisfun</td>\n",
       "      <td>NaN</td>\n",
       "      <td>Mumbai</td>\n",
       "      <td>Edtech</td>\n",
       "      <td>It aims to make learning fun via games.</td>\n",
       "      <td>Jatin Solanki</td>\n",
       "      <td>Deepak Parekh, Amitabh Bachchan, Piyush Pandey</td>\n",
       "      <td>$28,000,000</td>\n",
       "      <td>Fresh funding</td>\n",
       "    </tr>\n",
       "  </tbody>\n",
       "</table>\n",
       "</div>"
      ],
      "text/plain": [
       "    Company/Brand  Founded HeadQuarter     Sector  \\\n",
       "0  Bombay Shaving      NaN         NaN  Ecommerce   \n",
       "1       Ruangguru   2014.0      Mumbai     Edtech   \n",
       "2        Eduisfun      NaN      Mumbai     Edtech   \n",
       "\n",
       "                                        What it does  \\\n",
       "0         Provides a range of male grooming products   \n",
       "1  A learning platform that provides topic-based ...   \n",
       "2            It aims to make learning fun via games.   \n",
       "\n",
       "                                Founders  \\\n",
       "0                     Shantanu Deshpande   \n",
       "1  Adamas Belva Syah Devara, Iman Usman.   \n",
       "2                          Jatin Solanki   \n",
       "\n",
       "                                         Investor     Amount($)          Stage  \n",
       "0                            Sixth Sense Ventures    $6,300,000            NaN  \n",
       "1                                General Atlantic  $150,000,000       Series C  \n",
       "2  Deepak Parekh, Amitabh Bachchan, Piyush Pandey   $28,000,000  Fresh funding  "
      ]
     },
     "execution_count": 407,
     "metadata": {},
     "output_type": "execute_result"
    }
   ],
   "source": [
    "df19.head(3)"
   ]
  },
  {
   "cell_type": "code",
   "execution_count": 408,
   "metadata": {},
   "outputs": [
    {
     "data": {
      "text/html": [
       "<div>\n",
       "<style scoped>\n",
       "    .dataframe tbody tr th:only-of-type {\n",
       "        vertical-align: middle;\n",
       "    }\n",
       "\n",
       "    .dataframe tbody tr th {\n",
       "        vertical-align: top;\n",
       "    }\n",
       "\n",
       "    .dataframe thead th {\n",
       "        text-align: right;\n",
       "    }\n",
       "</style>\n",
       "<table border=\"1\" class=\"dataframe\">\n",
       "  <thead>\n",
       "    <tr style=\"text-align: right;\">\n",
       "      <th></th>\n",
       "      <th>Company Name</th>\n",
       "      <th>Industry</th>\n",
       "      <th>Round/Series</th>\n",
       "      <th>Amount</th>\n",
       "      <th>Location</th>\n",
       "      <th>About Company</th>\n",
       "    </tr>\n",
       "  </thead>\n",
       "  <tbody>\n",
       "    <tr>\n",
       "      <th>0</th>\n",
       "      <td>TheCollegeFever</td>\n",
       "      <td>Brand Marketing, Event Promotion, Marketing, S...</td>\n",
       "      <td>Seed</td>\n",
       "      <td>250000</td>\n",
       "      <td>Bangalore, Karnataka, India</td>\n",
       "      <td>TheCollegeFever is a hub for fun, fiesta and f...</td>\n",
       "    </tr>\n",
       "    <tr>\n",
       "      <th>1</th>\n",
       "      <td>Happy Cow Dairy</td>\n",
       "      <td>Agriculture, Farming</td>\n",
       "      <td>Seed</td>\n",
       "      <td>₹40,000,000</td>\n",
       "      <td>Mumbai, Maharashtra, India</td>\n",
       "      <td>A startup which aggregates milk from dairy far...</td>\n",
       "    </tr>\n",
       "    <tr>\n",
       "      <th>2</th>\n",
       "      <td>MyLoanCare</td>\n",
       "      <td>Credit, Financial Services, Lending, Marketplace</td>\n",
       "      <td>Series A</td>\n",
       "      <td>₹65,000,000</td>\n",
       "      <td>Gurgaon, Haryana, India</td>\n",
       "      <td>Leading Online Loans Marketplace in India</td>\n",
       "    </tr>\n",
       "  </tbody>\n",
       "</table>\n",
       "</div>"
      ],
      "text/plain": [
       "      Company Name                                           Industry  \\\n",
       "0  TheCollegeFever  Brand Marketing, Event Promotion, Marketing, S...   \n",
       "1  Happy Cow Dairy                               Agriculture, Farming   \n",
       "2       MyLoanCare   Credit, Financial Services, Lending, Marketplace   \n",
       "\n",
       "  Round/Series       Amount                     Location  \\\n",
       "0         Seed       250000  Bangalore, Karnataka, India   \n",
       "1         Seed  ₹40,000,000   Mumbai, Maharashtra, India   \n",
       "2     Series A  ₹65,000,000      Gurgaon, Haryana, India   \n",
       "\n",
       "                                       About Company  \n",
       "0  TheCollegeFever is a hub for fun, fiesta and f...  \n",
       "1  A startup which aggregates milk from dairy far...  \n",
       "2          Leading Online Loans Marketplace in India  "
      ]
     },
     "execution_count": 408,
     "metadata": {},
     "output_type": "execute_result"
    }
   ],
   "source": [
    "df2018.head(3) "
   ]
  },
  {
   "cell_type": "markdown",
   "metadata": {},
   "source": [
    "# DATA CLEANING"
   ]
  },
  {
   "cell_type": "markdown",
   "metadata": {},
   "source": [
    "### Check for duplicates"
   ]
  },
  {
   "cell_type": "code",
   "execution_count": 409,
   "metadata": {},
   "outputs": [
    {
     "data": {
      "text/plain": [
       "1"
      ]
     },
     "execution_count": 409,
     "metadata": {},
     "output_type": "execute_result"
    }
   ],
   "source": [
    "df2018.duplicated().sum()"
   ]
  },
  {
   "cell_type": "code",
   "execution_count": 410,
   "metadata": {},
   "outputs": [
    {
     "data": {
      "text/plain": [
       "0"
      ]
     },
     "execution_count": 410,
     "metadata": {},
     "output_type": "execute_result"
    }
   ],
   "source": [
    "df19.duplicated().sum()"
   ]
  },
  {
   "cell_type": "code",
   "execution_count": 411,
   "metadata": {},
   "outputs": [
    {
     "data": {
      "text/plain": [
       "3"
      ]
     },
     "execution_count": 411,
     "metadata": {},
     "output_type": "execute_result"
    }
   ],
   "source": [
    "df20.duplicated().sum()"
   ]
  },
  {
   "cell_type": "code",
   "execution_count": 412,
   "metadata": {},
   "outputs": [
    {
     "data": {
      "text/plain": [
       "3"
      ]
     },
     "execution_count": 412,
     "metadata": {},
     "output_type": "execute_result"
    }
   ],
   "source": [
    "df21.duplicated().sum()"
   ]
  },
  {
   "cell_type": "markdown",
   "metadata": {},
   "source": [
    "### Drop the duplicates"
   ]
  },
  {
   "cell_type": "code",
   "execution_count": 413,
   "metadata": {},
   "outputs": [],
   "source": [
    "clean_2018= df2018.drop_duplicates()\n",
    "clean_20= df20.drop_duplicates()\n",
    "clean_21= df21.drop_duplicates()"
   ]
  },
  {
   "cell_type": "markdown",
   "metadata": {},
   "source": [
    "# DATA CLEANING"
   ]
  },
  {
   "cell_type": "markdown",
   "metadata": {},
   "source": [
    "### Rename columns in 2018"
   ]
  },
  {
   "cell_type": "code",
   "execution_count": 414,
   "metadata": {},
   "outputs": [
    {
     "name": "stderr",
     "output_type": "stream",
     "text": [
      "C:\\Users\\Administrator\\AppData\\Local\\Temp\\ipykernel_3668\\1320793531.py:1: SettingWithCopyWarning: \n",
      "A value is trying to be set on a copy of a slice from a DataFrame\n",
      "\n",
      "See the caveats in the documentation: https://pandas.pydata.org/pandas-docs/stable/user_guide/indexing.html#returning-a-view-versus-a-copy\n",
      "  clean_2018.rename(columns={'Company Name':'Company_Brand','Industry':'Sector','Round/Series':'Stage','Location':'HeadQuarter','About Company':'What it does'} ,inplace=True)\n"
     ]
    },
    {
     "data": {
      "text/html": [
       "<div>\n",
       "<style scoped>\n",
       "    .dataframe tbody tr th:only-of-type {\n",
       "        vertical-align: middle;\n",
       "    }\n",
       "\n",
       "    .dataframe tbody tr th {\n",
       "        vertical-align: top;\n",
       "    }\n",
       "\n",
       "    .dataframe thead th {\n",
       "        text-align: right;\n",
       "    }\n",
       "</style>\n",
       "<table border=\"1\" class=\"dataframe\">\n",
       "  <thead>\n",
       "    <tr style=\"text-align: right;\">\n",
       "      <th></th>\n",
       "      <th>Company_Brand</th>\n",
       "      <th>Sector</th>\n",
       "      <th>Stage</th>\n",
       "      <th>Amount</th>\n",
       "      <th>HeadQuarter</th>\n",
       "      <th>What it does</th>\n",
       "      <th>Funding_Year</th>\n",
       "    </tr>\n",
       "  </thead>\n",
       "  <tbody>\n",
       "    <tr>\n",
       "      <th>0</th>\n",
       "      <td>TheCollegeFever</td>\n",
       "      <td>Brand Marketing, Event Promotion, Marketing, S...</td>\n",
       "      <td>Seed</td>\n",
       "      <td>250000</td>\n",
       "      <td>Bangalore, Karnataka, India</td>\n",
       "      <td>TheCollegeFever is a hub for fun, fiesta and f...</td>\n",
       "      <td>2018</td>\n",
       "    </tr>\n",
       "    <tr>\n",
       "      <th>1</th>\n",
       "      <td>Happy Cow Dairy</td>\n",
       "      <td>Agriculture, Farming</td>\n",
       "      <td>Seed</td>\n",
       "      <td>₹40,000,000</td>\n",
       "      <td>Mumbai, Maharashtra, India</td>\n",
       "      <td>A startup which aggregates milk from dairy far...</td>\n",
       "      <td>2018</td>\n",
       "    </tr>\n",
       "    <tr>\n",
       "      <th>2</th>\n",
       "      <td>MyLoanCare</td>\n",
       "      <td>Credit, Financial Services, Lending, Marketplace</td>\n",
       "      <td>Series A</td>\n",
       "      <td>₹65,000,000</td>\n",
       "      <td>Gurgaon, Haryana, India</td>\n",
       "      <td>Leading Online Loans Marketplace in India</td>\n",
       "      <td>2018</td>\n",
       "    </tr>\n",
       "    <tr>\n",
       "      <th>3</th>\n",
       "      <td>PayMe India</td>\n",
       "      <td>Financial Services, FinTech</td>\n",
       "      <td>Angel</td>\n",
       "      <td>2000000</td>\n",
       "      <td>Noida, Uttar Pradesh, India</td>\n",
       "      <td>PayMe India is an innovative FinTech organizat...</td>\n",
       "      <td>2018</td>\n",
       "    </tr>\n",
       "    <tr>\n",
       "      <th>4</th>\n",
       "      <td>Eunimart</td>\n",
       "      <td>E-Commerce Platforms, Retail, SaaS</td>\n",
       "      <td>Seed</td>\n",
       "      <td>—</td>\n",
       "      <td>Hyderabad, Andhra Pradesh, India</td>\n",
       "      <td>Eunimart is a one stop solution for merchants ...</td>\n",
       "      <td>2018</td>\n",
       "    </tr>\n",
       "  </tbody>\n",
       "</table>\n",
       "</div>"
      ],
      "text/plain": [
       "     Company_Brand                                             Sector  \\\n",
       "0  TheCollegeFever  Brand Marketing, Event Promotion, Marketing, S...   \n",
       "1  Happy Cow Dairy                               Agriculture, Farming   \n",
       "2       MyLoanCare   Credit, Financial Services, Lending, Marketplace   \n",
       "3      PayMe India                        Financial Services, FinTech   \n",
       "4         Eunimart                 E-Commerce Platforms, Retail, SaaS   \n",
       "\n",
       "      Stage       Amount                       HeadQuarter  \\\n",
       "0      Seed       250000       Bangalore, Karnataka, India   \n",
       "1      Seed  ₹40,000,000        Mumbai, Maharashtra, India   \n",
       "2  Series A  ₹65,000,000           Gurgaon, Haryana, India   \n",
       "3     Angel      2000000       Noida, Uttar Pradesh, India   \n",
       "4      Seed            —  Hyderabad, Andhra Pradesh, India   \n",
       "\n",
       "                                        What it does  Funding_Year  \n",
       "0  TheCollegeFever is a hub for fun, fiesta and f...          2018  \n",
       "1  A startup which aggregates milk from dairy far...          2018  \n",
       "2          Leading Online Loans Marketplace in India          2018  \n",
       "3  PayMe India is an innovative FinTech organizat...          2018  \n",
       "4  Eunimart is a one stop solution for merchants ...          2018  "
      ]
     },
     "execution_count": 414,
     "metadata": {},
     "output_type": "execute_result"
    }
   ],
   "source": [
    "clean_2018.rename(columns={'Company Name':'Company_Brand','Industry':'Sector','Round/Series':'Stage','Location':'HeadQuarter','About Company':'What it does'} ,inplace=True)\n",
    "clean_2018 = clean_2018.assign(Funding_Year = 2018) \n",
    "clean_2018.head()"
   ]
  },
  {
   "cell_type": "markdown",
   "metadata": {},
   "source": [
    "### Rename columns in 2019"
   ]
  },
  {
   "cell_type": "code",
   "execution_count": 415,
   "metadata": {},
   "outputs": [
    {
     "data": {
      "text/html": [
       "<div>\n",
       "<style scoped>\n",
       "    .dataframe tbody tr th:only-of-type {\n",
       "        vertical-align: middle;\n",
       "    }\n",
       "\n",
       "    .dataframe tbody tr th {\n",
       "        vertical-align: top;\n",
       "    }\n",
       "\n",
       "    .dataframe thead th {\n",
       "        text-align: right;\n",
       "    }\n",
       "</style>\n",
       "<table border=\"1\" class=\"dataframe\">\n",
       "  <thead>\n",
       "    <tr style=\"text-align: right;\">\n",
       "      <th></th>\n",
       "      <th>Company_Brand</th>\n",
       "      <th>Founded</th>\n",
       "      <th>HeadQuarter</th>\n",
       "      <th>Sector</th>\n",
       "      <th>What it does</th>\n",
       "      <th>Founders</th>\n",
       "      <th>Investor</th>\n",
       "      <th>Amount</th>\n",
       "      <th>Stage</th>\n",
       "      <th>Funding_Year</th>\n",
       "    </tr>\n",
       "  </thead>\n",
       "  <tbody>\n",
       "    <tr>\n",
       "      <th>0</th>\n",
       "      <td>Bombay Shaving</td>\n",
       "      <td>NaN</td>\n",
       "      <td>NaN</td>\n",
       "      <td>Ecommerce</td>\n",
       "      <td>Provides a range of male grooming products</td>\n",
       "      <td>Shantanu Deshpande</td>\n",
       "      <td>Sixth Sense Ventures</td>\n",
       "      <td>$6,300,000</td>\n",
       "      <td>NaN</td>\n",
       "      <td>2019</td>\n",
       "    </tr>\n",
       "    <tr>\n",
       "      <th>1</th>\n",
       "      <td>Ruangguru</td>\n",
       "      <td>2014.0</td>\n",
       "      <td>Mumbai</td>\n",
       "      <td>Edtech</td>\n",
       "      <td>A learning platform that provides topic-based ...</td>\n",
       "      <td>Adamas Belva Syah Devara, Iman Usman.</td>\n",
       "      <td>General Atlantic</td>\n",
       "      <td>$150,000,000</td>\n",
       "      <td>Series C</td>\n",
       "      <td>2019</td>\n",
       "    </tr>\n",
       "    <tr>\n",
       "      <th>2</th>\n",
       "      <td>Eduisfun</td>\n",
       "      <td>NaN</td>\n",
       "      <td>Mumbai</td>\n",
       "      <td>Edtech</td>\n",
       "      <td>It aims to make learning fun via games.</td>\n",
       "      <td>Jatin Solanki</td>\n",
       "      <td>Deepak Parekh, Amitabh Bachchan, Piyush Pandey</td>\n",
       "      <td>$28,000,000</td>\n",
       "      <td>Fresh funding</td>\n",
       "      <td>2019</td>\n",
       "    </tr>\n",
       "  </tbody>\n",
       "</table>\n",
       "</div>"
      ],
      "text/plain": [
       "    Company_Brand  Founded HeadQuarter     Sector  \\\n",
       "0  Bombay Shaving      NaN         NaN  Ecommerce   \n",
       "1       Ruangguru   2014.0      Mumbai     Edtech   \n",
       "2        Eduisfun      NaN      Mumbai     Edtech   \n",
       "\n",
       "                                        What it does  \\\n",
       "0         Provides a range of male grooming products   \n",
       "1  A learning platform that provides topic-based ...   \n",
       "2            It aims to make learning fun via games.   \n",
       "\n",
       "                                Founders  \\\n",
       "0                     Shantanu Deshpande   \n",
       "1  Adamas Belva Syah Devara, Iman Usman.   \n",
       "2                          Jatin Solanki   \n",
       "\n",
       "                                         Investor        Amount  \\\n",
       "0                            Sixth Sense Ventures    $6,300,000   \n",
       "1                                General Atlantic  $150,000,000   \n",
       "2  Deepak Parekh, Amitabh Bachchan, Piyush Pandey   $28,000,000   \n",
       "\n",
       "           Stage  Funding_Year  \n",
       "0            NaN          2019  \n",
       "1       Series C          2019  \n",
       "2  Fresh funding          2019  "
      ]
     },
     "execution_count": 415,
     "metadata": {},
     "output_type": "execute_result"
    }
   ],
   "source": [
    "df19.rename(columns={'Company/Brand':'Company_Brand','Amount($)':'Amount'},inplace=True)\n",
    "df19 = df19.assign(Funding_Year = 2019) \n",
    "df19.head(3)"
   ]
  },
  {
   "cell_type": "code",
   "execution_count": 416,
   "metadata": {},
   "outputs": [
    {
     "name": "stdout",
     "output_type": "stream",
     "text": [
      "<class 'pandas.core.frame.DataFrame'>\n",
      "RangeIndex: 89 entries, 0 to 88\n",
      "Data columns (total 10 columns):\n",
      " #   Column         Non-Null Count  Dtype  \n",
      "---  ------         --------------  -----  \n",
      " 0   Company_Brand  89 non-null     object \n",
      " 1   Founded        60 non-null     float64\n",
      " 2   HeadQuarter    70 non-null     object \n",
      " 3   Sector         84 non-null     object \n",
      " 4   What it does   89 non-null     object \n",
      " 5   Founders       86 non-null     object \n",
      " 6   Investor       89 non-null     object \n",
      " 7   Amount         89 non-null     object \n",
      " 8   Stage          43 non-null     object \n",
      " 9   Funding_Year   89 non-null     int64  \n",
      "dtypes: float64(1), int64(1), object(8)\n",
      "memory usage: 7.1+ KB\n"
     ]
    }
   ],
   "source": [
    "# To check for null and dtypes\n",
    "\n",
    "df19.info()"
   ]
  },
  {
   "cell_type": "code",
   "execution_count": 417,
   "metadata": {},
   "outputs": [
    {
     "data": {
      "text/plain": [
       "array(['$6,300,000', '$150,000,000', '$28,000,000', '$30,000,000',\n",
       "       '$6,000,000', 'Undisclosed', '$1,000,000', '$20,000,000',\n",
       "       '$275,000,000', '$22,000,000', '$5,000,000', '$140,500',\n",
       "       '$540,000,000', '$15,000,000', '$182,700', '$12,000,000',\n",
       "       '$11,000,000', '$15,500,000', '$1,500,000', '$5,500,000',\n",
       "       '$2,500,000', '$140,000', '$230,000,000', '$49,400,000',\n",
       "       '$32,000,000', '$26,000,000', '$150,000', '$400,000', '$2,000,000',\n",
       "       '$100,000,000', '$8,000,000', '$100,000', '$50,000,000',\n",
       "       '$120,000,000', '$4,000,000', '$6,800,000', '$36,000,000',\n",
       "       '$5,700,000', '$25,000,000', '$600,000', '$70,000,000',\n",
       "       '$60,000,000', '$220,000', '$2,800,000', '$2,100,000',\n",
       "       '$7,000,000', '$311,000,000', '$4,800,000', '$693,000,000',\n",
       "       '$33,000,000'], dtype=object)"
      ]
     },
     "execution_count": 417,
     "metadata": {},
     "output_type": "execute_result"
    }
   ],
   "source": [
    "# To check the values in the Amount column\n",
    "\n",
    "df19['Amount'].unique()"
   ]
  },
  {
   "cell_type": "code",
   "execution_count": 418,
   "metadata": {},
   "outputs": [],
   "source": [
    "clean_20 =  clean_20.assign(Funding_Year = 2020) \n",
    "clean_21 =  clean_21.assign(Funding_Year = 2021) "
   ]
  },
  {
   "cell_type": "markdown",
   "metadata": {},
   "source": [
    "### Select the columns from Tables to use in the dataframe"
   ]
  },
  {
   "cell_type": "code",
   "execution_count": 419,
   "metadata": {},
   "outputs": [],
   "source": [
    "df21_c = clean_21[['Company_Brand',\t'Funding_Year','HeadQuarter','Sector','Amount','Stage']]\n",
    "df20_c = clean_20[['Company_Brand',\t'Funding_Year','HeadQuarter','Sector','Amount','Stage']]\n",
    "df19_c = df19[['Company_Brand', 'Funding_Year','HeadQuarter','Sector','Amount','Stage']]\n",
    "df18_c = clean_2018[['Company_Brand','Funding_Year','HeadQuarter','Sector','Amount','Stage']]"
   ]
  },
  {
   "cell_type": "markdown",
   "metadata": {},
   "source": [
    "### Concatinate The tables"
   ]
  },
  {
   "cell_type": "code",
   "execution_count": 420,
   "metadata": {},
   "outputs": [
    {
     "data": {
      "text/html": [
       "<div>\n",
       "<style scoped>\n",
       "    .dataframe tbody tr th:only-of-type {\n",
       "        vertical-align: middle;\n",
       "    }\n",
       "\n",
       "    .dataframe tbody tr th {\n",
       "        vertical-align: top;\n",
       "    }\n",
       "\n",
       "    .dataframe thead th {\n",
       "        text-align: right;\n",
       "    }\n",
       "</style>\n",
       "<table border=\"1\" class=\"dataframe\">\n",
       "  <thead>\n",
       "    <tr style=\"text-align: right;\">\n",
       "      <th></th>\n",
       "      <th>Company_Brand</th>\n",
       "      <th>Funding_Year</th>\n",
       "      <th>HeadQuarter</th>\n",
       "      <th>Sector</th>\n",
       "      <th>Amount</th>\n",
       "      <th>Stage</th>\n",
       "    </tr>\n",
       "  </thead>\n",
       "  <tbody>\n",
       "    <tr>\n",
       "      <th>0</th>\n",
       "      <td>TheCollegeFever</td>\n",
       "      <td>2018</td>\n",
       "      <td>Bangalore, Karnataka, India</td>\n",
       "      <td>Brand Marketing, Event Promotion, Marketing, S...</td>\n",
       "      <td>250000</td>\n",
       "      <td>Seed</td>\n",
       "    </tr>\n",
       "    <tr>\n",
       "      <th>1</th>\n",
       "      <td>Happy Cow Dairy</td>\n",
       "      <td>2018</td>\n",
       "      <td>Mumbai, Maharashtra, India</td>\n",
       "      <td>Agriculture, Farming</td>\n",
       "      <td>₹40,000,000</td>\n",
       "      <td>Seed</td>\n",
       "    </tr>\n",
       "    <tr>\n",
       "      <th>2</th>\n",
       "      <td>MyLoanCare</td>\n",
       "      <td>2018</td>\n",
       "      <td>Gurgaon, Haryana, India</td>\n",
       "      <td>Credit, Financial Services, Lending, Marketplace</td>\n",
       "      <td>₹65,000,000</td>\n",
       "      <td>Series A</td>\n",
       "    </tr>\n",
       "    <tr>\n",
       "      <th>3</th>\n",
       "      <td>PayMe India</td>\n",
       "      <td>2018</td>\n",
       "      <td>Noida, Uttar Pradesh, India</td>\n",
       "      <td>Financial Services, FinTech</td>\n",
       "      <td>2000000</td>\n",
       "      <td>Angel</td>\n",
       "    </tr>\n",
       "    <tr>\n",
       "      <th>4</th>\n",
       "      <td>Eunimart</td>\n",
       "      <td>2018</td>\n",
       "      <td>Hyderabad, Andhra Pradesh, India</td>\n",
       "      <td>E-Commerce Platforms, Retail, SaaS</td>\n",
       "      <td>—</td>\n",
       "      <td>Seed</td>\n",
       "    </tr>\n",
       "  </tbody>\n",
       "</table>\n",
       "</div>"
      ],
      "text/plain": [
       "     Company_Brand  Funding_Year                       HeadQuarter  \\\n",
       "0  TheCollegeFever          2018       Bangalore, Karnataka, India   \n",
       "1  Happy Cow Dairy          2018        Mumbai, Maharashtra, India   \n",
       "2       MyLoanCare          2018           Gurgaon, Haryana, India   \n",
       "3      PayMe India          2018       Noida, Uttar Pradesh, India   \n",
       "4         Eunimart          2018  Hyderabad, Andhra Pradesh, India   \n",
       "\n",
       "                                              Sector       Amount     Stage  \n",
       "0  Brand Marketing, Event Promotion, Marketing, S...       250000      Seed  \n",
       "1                               Agriculture, Farming  ₹40,000,000      Seed  \n",
       "2   Credit, Financial Services, Lending, Marketplace  ₹65,000,000  Series A  \n",
       "3                        Financial Services, FinTech      2000000     Angel  \n",
       "4                 E-Commerce Platforms, Retail, SaaS            —      Seed  "
      ]
     },
     "execution_count": 420,
     "metadata": {},
     "output_type": "execute_result"
    }
   ],
   "source": [
    "combine= pd.concat([df18_c,df19_c,df20_c,df21_c],ignore_index=True)\n",
    "\n",
    "combine.head()"
   ]
  },
  {
   "cell_type": "code",
   "execution_count": 421,
   "metadata": {},
   "outputs": [],
   "source": [
    "#combine.Sector.title()"
   ]
  },
  {
   "cell_type": "code",
   "execution_count": 422,
   "metadata": {},
   "outputs": [],
   "source": [
    "#combine['Amount'].unique()"
   ]
  },
  {
   "cell_type": "code",
   "execution_count": 423,
   "metadata": {},
   "outputs": [],
   "source": [
    "# To check the fill in the null values\n",
    "\n",
    "df_combine = combine.replace('Undisclosed',0, inplace=True)\n",
    "df_combine = combine.replace('—',0)\n"
   ]
  },
  {
   "cell_type": "code",
   "execution_count": 424,
   "metadata": {},
   "outputs": [
    {
     "name": "stdout",
     "output_type": "stream",
     "text": [
      "<class 'pandas.core.frame.DataFrame'>\n",
      "RangeIndex: 2718 entries, 0 to 2717\n",
      "Data columns (total 6 columns):\n",
      " #   Column         Non-Null Count  Dtype \n",
      "---  ------         --------------  ----- \n",
      " 0   Company_Brand  2718 non-null   object\n",
      " 1   Funding_Year   2718 non-null   int64 \n",
      " 2   HeadQuarter    2511 non-null   object\n",
      " 3   Sector         2687 non-null   object\n",
      " 4   Amount         2212 non-null   object\n",
      " 5   Stage          1748 non-null   object\n",
      "dtypes: int64(1), object(5)\n",
      "memory usage: 127.5+ KB\n"
     ]
    }
   ],
   "source": [
    "df_combine.info()"
   ]
  },
  {
   "cell_type": "markdown",
   "metadata": {},
   "source": [
    "### To check for the null Values in the Concataned table"
   ]
  },
  {
   "cell_type": "code",
   "execution_count": 425,
   "metadata": {},
   "outputs": [
    {
     "data": {
      "text/plain": [
       "Company_Brand      0\n",
       "Funding_Year       0\n",
       "HeadQuarter      207\n",
       "Sector            31\n",
       "Amount           506\n",
       "Stage            970\n",
       "dtype: int64"
      ]
     },
     "execution_count": 425,
     "metadata": {},
     "output_type": "execute_result"
    }
   ],
   "source": [
    "df_combine.isna().sum()"
   ]
  },
  {
   "cell_type": "code",
   "execution_count": 426,
   "metadata": {},
   "outputs": [
    {
     "data": {
      "text/html": [
       "<div>\n",
       "<style scoped>\n",
       "    .dataframe tbody tr th:only-of-type {\n",
       "        vertical-align: middle;\n",
       "    }\n",
       "\n",
       "    .dataframe tbody tr th {\n",
       "        vertical-align: top;\n",
       "    }\n",
       "\n",
       "    .dataframe thead th {\n",
       "        text-align: right;\n",
       "    }\n",
       "</style>\n",
       "<table border=\"1\" class=\"dataframe\">\n",
       "  <thead>\n",
       "    <tr style=\"text-align: right;\">\n",
       "      <th></th>\n",
       "      <th>count</th>\n",
       "      <th>mean</th>\n",
       "      <th>std</th>\n",
       "      <th>min</th>\n",
       "      <th>25%</th>\n",
       "      <th>50%</th>\n",
       "      <th>75%</th>\n",
       "      <th>max</th>\n",
       "    </tr>\n",
       "  </thead>\n",
       "  <tbody>\n",
       "    <tr>\n",
       "      <th>Funding_Year</th>\n",
       "      <td>2718.0</td>\n",
       "      <td>2019.967991</td>\n",
       "      <td>1.091712</td>\n",
       "      <td>2018.0</td>\n",
       "      <td>2020.0</td>\n",
       "      <td>2020.0</td>\n",
       "      <td>2021.0</td>\n",
       "      <td>2021.0</td>\n",
       "    </tr>\n",
       "  </tbody>\n",
       "</table>\n",
       "</div>"
      ],
      "text/plain": [
       "               count         mean       std     min     25%     50%     75%  \\\n",
       "Funding_Year  2718.0  2019.967991  1.091712  2018.0  2020.0  2020.0  2021.0   \n",
       "\n",
       "                 max  \n",
       "Funding_Year  2021.0  "
      ]
     },
     "execution_count": 426,
     "metadata": {},
     "output_type": "execute_result"
    }
   ],
   "source": [
    "df_combine.describe().T"
   ]
  },
  {
   "cell_type": "markdown",
   "metadata": {},
   "source": [
    "### To fill in the Null values in each column"
   ]
  },
  {
   "cell_type": "code",
   "execution_count": 427,
   "metadata": {},
   "outputs": [],
   "source": [
    "df_combine.fillna(value={'Sector':'Unknown','Stage':'Unknown','Amount':0,'HeadQuarter':'Unknown','What it does':'Unknown'},inplace=True)"
   ]
  },
  {
   "cell_type": "code",
   "execution_count": 428,
   "metadata": {},
   "outputs": [
    {
     "data": {
      "text/plain": [
       "Company_Brand    0\n",
       "Funding_Year     0\n",
       "HeadQuarter      0\n",
       "Sector           0\n",
       "Amount           0\n",
       "Stage            0\n",
       "dtype: int64"
      ]
     },
     "execution_count": 428,
     "metadata": {},
     "output_type": "execute_result"
    }
   ],
   "source": [
    "# To check if the nulls have been handled\n",
    "\n",
    "df_combine.isna().sum()"
   ]
  },
  {
   "cell_type": "markdown",
   "metadata": {},
   "source": [
    "# Clean the 'Amount' Column"
   ]
  },
  {
   "cell_type": "markdown",
   "metadata": {},
   "source": [
    "### To convert the Amount Column to one currency"
   ]
  },
  {
   "cell_type": "code",
   "execution_count": 429,
   "metadata": {},
   "outputs": [],
   "source": [
    "# A function to convert the currrency\n",
    "\n",
    "def currency(row):\n",
    "    # 1 USD = 70 INR\n",
    "\n",
    "    # Check if the Amount starts with '₹'\n",
    "    if str(row['Amount']).startswith('₹'):\n",
    "        return float(str(row['Amount']).replace('₹', '').replace(',', '')) / 70\n",
    "    # Check if the Amount starts with '$'\n",
    "    elif str(row['Amount']).startswith('$'):\n",
    "        return float(str(row['Amount']).replace('$', '').replace(',', ''))\n",
    "\n",
    "    else:\n",
    "        return float(str(row['Amount']).replace(',', '')) / 70"
   ]
  },
  {
   "cell_type": "markdown",
   "metadata": {},
   "source": [
    "### To call the function"
   ]
  },
  {
   "cell_type": "code",
   "execution_count": 430,
   "metadata": {},
   "outputs": [],
   "source": [
    "df_combine['Amount'] = df_combine.apply(currency, axis=1)\n",
    "df_combine['Amount'] = df_combine['Amount'].round(2)"
   ]
  },
  {
   "cell_type": "code",
   "execution_count": 431,
   "metadata": {},
   "outputs": [
    {
     "data": {
      "text/html": [
       "<div>\n",
       "<style scoped>\n",
       "    .dataframe tbody tr th:only-of-type {\n",
       "        vertical-align: middle;\n",
       "    }\n",
       "\n",
       "    .dataframe tbody tr th {\n",
       "        vertical-align: top;\n",
       "    }\n",
       "\n",
       "    .dataframe thead th {\n",
       "        text-align: right;\n",
       "    }\n",
       "</style>\n",
       "<table border=\"1\" class=\"dataframe\">\n",
       "  <thead>\n",
       "    <tr style=\"text-align: right;\">\n",
       "      <th></th>\n",
       "      <th>Company_Brand</th>\n",
       "      <th>Funding_Year</th>\n",
       "      <th>HeadQuarter</th>\n",
       "      <th>Sector</th>\n",
       "      <th>Amount</th>\n",
       "      <th>Stage</th>\n",
       "    </tr>\n",
       "  </thead>\n",
       "  <tbody>\n",
       "    <tr>\n",
       "      <th>0</th>\n",
       "      <td>TheCollegeFever</td>\n",
       "      <td>2018</td>\n",
       "      <td>Bangalore, Karnataka, India</td>\n",
       "      <td>Brand Marketing, Event Promotion, Marketing, S...</td>\n",
       "      <td>3571.43</td>\n",
       "      <td>Seed</td>\n",
       "    </tr>\n",
       "    <tr>\n",
       "      <th>1</th>\n",
       "      <td>Happy Cow Dairy</td>\n",
       "      <td>2018</td>\n",
       "      <td>Mumbai, Maharashtra, India</td>\n",
       "      <td>Agriculture, Farming</td>\n",
       "      <td>571428.57</td>\n",
       "      <td>Seed</td>\n",
       "    </tr>\n",
       "    <tr>\n",
       "      <th>2</th>\n",
       "      <td>MyLoanCare</td>\n",
       "      <td>2018</td>\n",
       "      <td>Gurgaon, Haryana, India</td>\n",
       "      <td>Credit, Financial Services, Lending, Marketplace</td>\n",
       "      <td>928571.43</td>\n",
       "      <td>Series A</td>\n",
       "    </tr>\n",
       "    <tr>\n",
       "      <th>3</th>\n",
       "      <td>PayMe India</td>\n",
       "      <td>2018</td>\n",
       "      <td>Noida, Uttar Pradesh, India</td>\n",
       "      <td>Financial Services, FinTech</td>\n",
       "      <td>28571.43</td>\n",
       "      <td>Angel</td>\n",
       "    </tr>\n",
       "    <tr>\n",
       "      <th>4</th>\n",
       "      <td>Eunimart</td>\n",
       "      <td>2018</td>\n",
       "      <td>Hyderabad, Andhra Pradesh, India</td>\n",
       "      <td>E-Commerce Platforms, Retail, SaaS</td>\n",
       "      <td>0.00</td>\n",
       "      <td>Seed</td>\n",
       "    </tr>\n",
       "  </tbody>\n",
       "</table>\n",
       "</div>"
      ],
      "text/plain": [
       "     Company_Brand  Funding_Year                       HeadQuarter  \\\n",
       "0  TheCollegeFever          2018       Bangalore, Karnataka, India   \n",
       "1  Happy Cow Dairy          2018        Mumbai, Maharashtra, India   \n",
       "2       MyLoanCare          2018           Gurgaon, Haryana, India   \n",
       "3      PayMe India          2018       Noida, Uttar Pradesh, India   \n",
       "4         Eunimart          2018  Hyderabad, Andhra Pradesh, India   \n",
       "\n",
       "                                              Sector     Amount     Stage  \n",
       "0  Brand Marketing, Event Promotion, Marketing, S...    3571.43      Seed  \n",
       "1                               Agriculture, Farming  571428.57      Seed  \n",
       "2   Credit, Financial Services, Lending, Marketplace  928571.43  Series A  \n",
       "3                        Financial Services, FinTech   28571.43     Angel  \n",
       "4                 E-Commerce Platforms, Retail, SaaS       0.00      Seed  "
      ]
     },
     "execution_count": 431,
     "metadata": {},
     "output_type": "execute_result"
    }
   ],
   "source": [
    "# To have a peek to show the table\n",
    "\n",
    "df_combine.head()"
   ]
  },
  {
   "cell_type": "markdown",
   "metadata": {},
   "source": [
    "### To Rename the Amount Column to show currency"
   ]
  },
  {
   "cell_type": "code",
   "execution_count": 432,
   "metadata": {},
   "outputs": [
    {
     "data": {
      "text/html": [
       "<div>\n",
       "<style scoped>\n",
       "    .dataframe tbody tr th:only-of-type {\n",
       "        vertical-align: middle;\n",
       "    }\n",
       "\n",
       "    .dataframe tbody tr th {\n",
       "        vertical-align: top;\n",
       "    }\n",
       "\n",
       "    .dataframe thead th {\n",
       "        text-align: right;\n",
       "    }\n",
       "</style>\n",
       "<table border=\"1\" class=\"dataframe\">\n",
       "  <thead>\n",
       "    <tr style=\"text-align: right;\">\n",
       "      <th></th>\n",
       "      <th>Company_Brand</th>\n",
       "      <th>Funding_Year</th>\n",
       "      <th>HeadQuarter</th>\n",
       "      <th>Sector</th>\n",
       "      <th>Amount($)</th>\n",
       "      <th>Stage</th>\n",
       "    </tr>\n",
       "  </thead>\n",
       "  <tbody>\n",
       "    <tr>\n",
       "      <th>0</th>\n",
       "      <td>TheCollegeFever</td>\n",
       "      <td>2018</td>\n",
       "      <td>Bangalore, Karnataka, India</td>\n",
       "      <td>Brand Marketing, Event Promotion, Marketing, S...</td>\n",
       "      <td>3571.43</td>\n",
       "      <td>Seed</td>\n",
       "    </tr>\n",
       "    <tr>\n",
       "      <th>1</th>\n",
       "      <td>Happy Cow Dairy</td>\n",
       "      <td>2018</td>\n",
       "      <td>Mumbai, Maharashtra, India</td>\n",
       "      <td>Agriculture, Farming</td>\n",
       "      <td>571428.57</td>\n",
       "      <td>Seed</td>\n",
       "    </tr>\n",
       "    <tr>\n",
       "      <th>2</th>\n",
       "      <td>MyLoanCare</td>\n",
       "      <td>2018</td>\n",
       "      <td>Gurgaon, Haryana, India</td>\n",
       "      <td>Credit, Financial Services, Lending, Marketplace</td>\n",
       "      <td>928571.43</td>\n",
       "      <td>Series A</td>\n",
       "    </tr>\n",
       "    <tr>\n",
       "      <th>3</th>\n",
       "      <td>PayMe India</td>\n",
       "      <td>2018</td>\n",
       "      <td>Noida, Uttar Pradesh, India</td>\n",
       "      <td>Financial Services, FinTech</td>\n",
       "      <td>28571.43</td>\n",
       "      <td>Angel</td>\n",
       "    </tr>\n",
       "    <tr>\n",
       "      <th>4</th>\n",
       "      <td>Eunimart</td>\n",
       "      <td>2018</td>\n",
       "      <td>Hyderabad, Andhra Pradesh, India</td>\n",
       "      <td>E-Commerce Platforms, Retail, SaaS</td>\n",
       "      <td>0.00</td>\n",
       "      <td>Seed</td>\n",
       "    </tr>\n",
       "  </tbody>\n",
       "</table>\n",
       "</div>"
      ],
      "text/plain": [
       "     Company_Brand  Funding_Year                       HeadQuarter  \\\n",
       "0  TheCollegeFever          2018       Bangalore, Karnataka, India   \n",
       "1  Happy Cow Dairy          2018        Mumbai, Maharashtra, India   \n",
       "2       MyLoanCare          2018           Gurgaon, Haryana, India   \n",
       "3      PayMe India          2018       Noida, Uttar Pradesh, India   \n",
       "4         Eunimart          2018  Hyderabad, Andhra Pradesh, India   \n",
       "\n",
       "                                              Sector  Amount($)     Stage  \n",
       "0  Brand Marketing, Event Promotion, Marketing, S...    3571.43      Seed  \n",
       "1                               Agriculture, Farming  571428.57      Seed  \n",
       "2   Credit, Financial Services, Lending, Marketplace  928571.43  Series A  \n",
       "3                        Financial Services, FinTech   28571.43     Angel  \n",
       "4                 E-Commerce Platforms, Retail, SaaS       0.00      Seed  "
      ]
     },
     "execution_count": 432,
     "metadata": {},
     "output_type": "execute_result"
    }
   ],
   "source": [
    "df_combine.rename(columns={'Amount':'Amount($)'},inplace=True)\n",
    "df_combine.head()"
   ]
  },
  {
   "cell_type": "markdown",
   "metadata": {},
   "source": [
    "# Cleaning the 'Stage' Column"
   ]
  },
  {
   "cell_type": "code",
   "execution_count": 433,
   "metadata": {},
   "outputs": [
    {
     "data": {
      "text/plain": [
       "array(['Seed', 'Series A', 'Angel', 'Series B', 'Pre-Seed',\n",
       "       'Private Equity', 'Venture - Series Unknown', 'Grant',\n",
       "       'Debt Financing', 'Post-IPO Debt', 'Series H', 'Series C',\n",
       "       'Series E', 'Corporate Round', 0,\n",
       "       'https://docs.google.com/spreadsheets/d/1x9ziNeaz6auNChIHnMI8U6kS7knTr3byy_YBGfQaoUA/edit#gid=1861303593',\n",
       "       'Series D', 'Secondary Market', 'Post-IPO Equity',\n",
       "       'Non-equity Assistance', 'Funding Round', 'Unknown',\n",
       "       'Fresh funding', 'Pre series A', 'Series G', 'Post series A',\n",
       "       'Seed funding', 'Seed fund', 'Series F', 'Series B+', 'Seed round',\n",
       "       'Pre-series A', 'Pre-seed', 'Pre-series', 'Debt', 'Pre-series C',\n",
       "       'Pre-series B', 'Bridge', 'Series B2', 'Pre- series A', 'Edge',\n",
       "       'Pre-Series B', 'Seed A', 'Series A-1', 'Seed Funding',\n",
       "       'Pre-seed Round', 'Seed Round & Series A', 'Pre Series A',\n",
       "       'Pre seed Round', 'Angel Round', 'Pre series A1', 'Series E2',\n",
       "       'Seed Round', 'Bridge Round', 'Pre seed round', 'Pre series B',\n",
       "       'Pre series C', 'Seed Investment', 'Series D1', 'Mid series',\n",
       "       'Series C, D'], dtype=object)"
      ]
     },
     "execution_count": 433,
     "metadata": {},
     "output_type": "execute_result"
    }
   ],
   "source": [
    "df_combine['Stage'].unique()"
   ]
  },
  {
   "cell_type": "code",
   "execution_count": 434,
   "metadata": {},
   "outputs": [],
   "source": [
    "df_combine['Stage'] = df_combine['Stage'].str.title()  #To change the name to one uppercase"
   ]
  },
  {
   "cell_type": "markdown",
   "metadata": {},
   "source": [
    "### To handle the nan's and speacial strings"
   ]
  },
  {
   "cell_type": "code",
   "execution_count": 435,
   "metadata": {},
   "outputs": [],
   "source": [
    "df_combine['Stage'] = df_combine['Stage'].replace({'Https://Docs.Google.Com/Spreadsheets/D/1X9Zineaz6Aunchihnmi8U6Ks7Kntr3Byy_Ybgfqaoua/Edit#Gid=1861303593':'Unknown'})\n",
    "df_combine['Stage'] =  df_combine['Stage'].fillna('Unknown')\n",
    "df_combine['Stage'] =  df_combine['Stage'].str.replace('-',' ')"
   ]
  },
  {
   "cell_type": "code",
   "execution_count": 436,
   "metadata": {},
   "outputs": [
    {
     "data": {
      "text/plain": [
       "array(['Seed', 'Series A', 'Angel', 'Series B', 'Pre Seed',\n",
       "       'Private Equity', 'Venture   Series Unknown', 'Grant',\n",
       "       'Debt Financing', 'Post Ipo Debt', 'Series H', 'Series C',\n",
       "       'Series E', 'Corporate Round', 'Unknown', 'Series D',\n",
       "       'Secondary Market', 'Post Ipo Equity', 'Non Equity Assistance',\n",
       "       'Funding Round', 'Fresh Funding', 'Pre Series A', 'Series G',\n",
       "       'Post Series A', 'Seed Funding', 'Seed Fund', 'Series F',\n",
       "       'Series B+', 'Seed Round', 'Pre Series', 'Debt', 'Pre Series C',\n",
       "       'Pre Series B', 'Bridge', 'Series B2', 'Pre  Series A', 'Edge',\n",
       "       'Seed A', 'Series A 1', 'Pre Seed Round', 'Seed Round & Series A',\n",
       "       'Angel Round', 'Pre Series A1', 'Series E2', 'Bridge Round',\n",
       "       'Seed Investment', 'Series D1', 'Mid Series', 'Series C, D'],\n",
       "      dtype=object)"
      ]
     },
     "execution_count": 436,
     "metadata": {},
     "output_type": "execute_result"
    }
   ],
   "source": [
    "df_combine['Stage'].unique()"
   ]
  },
  {
   "cell_type": "markdown",
   "metadata": {},
   "source": [
    "### To Categorize the Stage column to major Stages(Pre-seed, Seed, Debt, Series, Unknown, Others)"
   ]
  },
  {
   "cell_type": "code",
   "execution_count": 437,
   "metadata": {},
   "outputs": [],
   "source": [
    "# Function for grouping\n",
    "\n",
    "def Stage(row):\n",
    "\n",
    "    if  'Pre Seed' in str(row['Stage']) or 'Bridge' in str(row['Stage']):\n",
    "        return 'Pre-Seed'\n",
    "    if 'Pre Series' in str(row['Stage']):\n",
    "        return 'Pre-Series'\n",
    "    if 'Seed' in str(row['Stage']) or 'Grant' in str(row['Stage']) or 'Corp' in str(row['Stage']):\n",
    "        return 'Seed'\n",
    "    if 'Debt' in str(row['Stage']):\n",
    "        return 'Debt'\n",
    "    if 'Series' in str(row['Stage']):\n",
    "        return 'Series'\n",
    "    if 'Unknown' in str(row['Stage']):\n",
    "        return 'Unknown'\n",
    "    if 'Equity' in str(row['Stage']) or 'Angel' in str(row['Stage']):\n",
    "        return 'Equity'\n",
    "    else:\n",
    "        return 'Others'\n",
    "\n",
    "    \n"
   ]
  },
  {
   "cell_type": "code",
   "execution_count": 438,
   "metadata": {},
   "outputs": [],
   "source": [
    "# Call the function\n",
    "\n",
    "df_combine['Funding'] = df_combine.apply(lambda row: Stage(row), axis=1)\n",
    "#df_combine['Stage'] = df_combine.apply(lambda row: Stage(row), axis=1)\n"
   ]
  },
  {
   "cell_type": "code",
   "execution_count": 439,
   "metadata": {},
   "outputs": [
    {
     "data": {
      "text/html": [
       "<div>\n",
       "<style scoped>\n",
       "    .dataframe tbody tr th:only-of-type {\n",
       "        vertical-align: middle;\n",
       "    }\n",
       "\n",
       "    .dataframe tbody tr th {\n",
       "        vertical-align: top;\n",
       "    }\n",
       "\n",
       "    .dataframe thead th {\n",
       "        text-align: right;\n",
       "    }\n",
       "</style>\n",
       "<table border=\"1\" class=\"dataframe\">\n",
       "  <thead>\n",
       "    <tr style=\"text-align: right;\">\n",
       "      <th></th>\n",
       "      <th>Company_Brand</th>\n",
       "      <th>Funding_Year</th>\n",
       "      <th>HeadQuarter</th>\n",
       "      <th>Sector</th>\n",
       "      <th>Amount($)</th>\n",
       "      <th>Stage</th>\n",
       "      <th>Funding</th>\n",
       "    </tr>\n",
       "  </thead>\n",
       "  <tbody>\n",
       "    <tr>\n",
       "      <th>0</th>\n",
       "      <td>TheCollegeFever</td>\n",
       "      <td>2018</td>\n",
       "      <td>Bangalore, Karnataka, India</td>\n",
       "      <td>Brand Marketing, Event Promotion, Marketing, S...</td>\n",
       "      <td>3571.43</td>\n",
       "      <td>Seed</td>\n",
       "      <td>Seed</td>\n",
       "    </tr>\n",
       "    <tr>\n",
       "      <th>1</th>\n",
       "      <td>Happy Cow Dairy</td>\n",
       "      <td>2018</td>\n",
       "      <td>Mumbai, Maharashtra, India</td>\n",
       "      <td>Agriculture, Farming</td>\n",
       "      <td>571428.57</td>\n",
       "      <td>Seed</td>\n",
       "      <td>Seed</td>\n",
       "    </tr>\n",
       "    <tr>\n",
       "      <th>2</th>\n",
       "      <td>MyLoanCare</td>\n",
       "      <td>2018</td>\n",
       "      <td>Gurgaon, Haryana, India</td>\n",
       "      <td>Credit, Financial Services, Lending, Marketplace</td>\n",
       "      <td>928571.43</td>\n",
       "      <td>Series A</td>\n",
       "      <td>Series</td>\n",
       "    </tr>\n",
       "    <tr>\n",
       "      <th>3</th>\n",
       "      <td>PayMe India</td>\n",
       "      <td>2018</td>\n",
       "      <td>Noida, Uttar Pradesh, India</td>\n",
       "      <td>Financial Services, FinTech</td>\n",
       "      <td>28571.43</td>\n",
       "      <td>Angel</td>\n",
       "      <td>Equity</td>\n",
       "    </tr>\n",
       "    <tr>\n",
       "      <th>4</th>\n",
       "      <td>Eunimart</td>\n",
       "      <td>2018</td>\n",
       "      <td>Hyderabad, Andhra Pradesh, India</td>\n",
       "      <td>E-Commerce Platforms, Retail, SaaS</td>\n",
       "      <td>0.00</td>\n",
       "      <td>Seed</td>\n",
       "      <td>Seed</td>\n",
       "    </tr>\n",
       "    <tr>\n",
       "      <th>5</th>\n",
       "      <td>Hasura</td>\n",
       "      <td>2018</td>\n",
       "      <td>Bengaluru, Karnataka, India</td>\n",
       "      <td>Cloud Infrastructure, PaaS, SaaS</td>\n",
       "      <td>22857.14</td>\n",
       "      <td>Seed</td>\n",
       "      <td>Seed</td>\n",
       "    </tr>\n",
       "    <tr>\n",
       "      <th>6</th>\n",
       "      <td>Tripshelf</td>\n",
       "      <td>2018</td>\n",
       "      <td>Kalkaji, Delhi, India</td>\n",
       "      <td>Internet, Leisure, Marketplace</td>\n",
       "      <td>228571.43</td>\n",
       "      <td>Seed</td>\n",
       "      <td>Seed</td>\n",
       "    </tr>\n",
       "    <tr>\n",
       "      <th>7</th>\n",
       "      <td>Hyperdata.IO</td>\n",
       "      <td>2018</td>\n",
       "      <td>Hyderabad, Andhra Pradesh, India</td>\n",
       "      <td>Market Research</td>\n",
       "      <td>714285.71</td>\n",
       "      <td>Angel</td>\n",
       "      <td>Equity</td>\n",
       "    </tr>\n",
       "    <tr>\n",
       "      <th>8</th>\n",
       "      <td>Freightwalla</td>\n",
       "      <td>2018</td>\n",
       "      <td>Mumbai, Maharashtra, India</td>\n",
       "      <td>Information Services, Information Technology</td>\n",
       "      <td>0.00</td>\n",
       "      <td>Seed</td>\n",
       "      <td>Seed</td>\n",
       "    </tr>\n",
       "    <tr>\n",
       "      <th>9</th>\n",
       "      <td>Microchip Payments</td>\n",
       "      <td>2018</td>\n",
       "      <td>Bangalore, Karnataka, India</td>\n",
       "      <td>Mobile Payments</td>\n",
       "      <td>0.00</td>\n",
       "      <td>Seed</td>\n",
       "      <td>Seed</td>\n",
       "    </tr>\n",
       "  </tbody>\n",
       "</table>\n",
       "</div>"
      ],
      "text/plain": [
       "        Company_Brand  Funding_Year                       HeadQuarter  \\\n",
       "0     TheCollegeFever          2018       Bangalore, Karnataka, India   \n",
       "1     Happy Cow Dairy          2018        Mumbai, Maharashtra, India   \n",
       "2          MyLoanCare          2018           Gurgaon, Haryana, India   \n",
       "3         PayMe India          2018       Noida, Uttar Pradesh, India   \n",
       "4            Eunimart          2018  Hyderabad, Andhra Pradesh, India   \n",
       "5              Hasura          2018       Bengaluru, Karnataka, India   \n",
       "6           Tripshelf          2018             Kalkaji, Delhi, India   \n",
       "7        Hyperdata.IO          2018  Hyderabad, Andhra Pradesh, India   \n",
       "8        Freightwalla          2018        Mumbai, Maharashtra, India   \n",
       "9  Microchip Payments          2018       Bangalore, Karnataka, India   \n",
       "\n",
       "                                              Sector  Amount($)     Stage  \\\n",
       "0  Brand Marketing, Event Promotion, Marketing, S...    3571.43      Seed   \n",
       "1                               Agriculture, Farming  571428.57      Seed   \n",
       "2   Credit, Financial Services, Lending, Marketplace  928571.43  Series A   \n",
       "3                        Financial Services, FinTech   28571.43     Angel   \n",
       "4                 E-Commerce Platforms, Retail, SaaS       0.00      Seed   \n",
       "5                   Cloud Infrastructure, PaaS, SaaS   22857.14      Seed   \n",
       "6                     Internet, Leisure, Marketplace  228571.43      Seed   \n",
       "7                                    Market Research  714285.71     Angel   \n",
       "8       Information Services, Information Technology       0.00      Seed   \n",
       "9                                    Mobile Payments       0.00      Seed   \n",
       "\n",
       "  Funding  \n",
       "0    Seed  \n",
       "1    Seed  \n",
       "2  Series  \n",
       "3  Equity  \n",
       "4    Seed  \n",
       "5    Seed  \n",
       "6    Seed  \n",
       "7  Equity  \n",
       "8    Seed  \n",
       "9    Seed  "
      ]
     },
     "execution_count": 439,
     "metadata": {},
     "output_type": "execute_result"
    }
   ],
   "source": [
    "# Confirm the Function worked\n",
    "\n",
    "df_combine.head(10)"
   ]
  },
  {
   "cell_type": "markdown",
   "metadata": {},
   "source": [
    "# To clean the 'HeadQuarter' Column"
   ]
  },
  {
   "cell_type": "code",
   "execution_count": 440,
   "metadata": {},
   "outputs": [],
   "source": [
    "# Split the strings from the comma(,) then return the first index of the string \n",
    "\n",
    "df_combine['HeadQuarter'] = df_combine['HeadQuarter'].str.split(',').str[0]"
   ]
  },
  {
   "cell_type": "code",
   "execution_count": 441,
   "metadata": {},
   "outputs": [
    {
     "data": {
      "text/html": [
       "<div>\n",
       "<style scoped>\n",
       "    .dataframe tbody tr th:only-of-type {\n",
       "        vertical-align: middle;\n",
       "    }\n",
       "\n",
       "    .dataframe tbody tr th {\n",
       "        vertical-align: top;\n",
       "    }\n",
       "\n",
       "    .dataframe thead th {\n",
       "        text-align: right;\n",
       "    }\n",
       "</style>\n",
       "<table border=\"1\" class=\"dataframe\">\n",
       "  <thead>\n",
       "    <tr style=\"text-align: right;\">\n",
       "      <th></th>\n",
       "      <th>Company_Brand</th>\n",
       "      <th>Funding_Year</th>\n",
       "      <th>HeadQuarter</th>\n",
       "      <th>Sector</th>\n",
       "      <th>Amount($)</th>\n",
       "      <th>Stage</th>\n",
       "      <th>Funding</th>\n",
       "    </tr>\n",
       "  </thead>\n",
       "  <tbody>\n",
       "    <tr>\n",
       "      <th>0</th>\n",
       "      <td>TheCollegeFever</td>\n",
       "      <td>2018</td>\n",
       "      <td>Bangalore</td>\n",
       "      <td>Brand Marketing, Event Promotion, Marketing, S...</td>\n",
       "      <td>3571.43</td>\n",
       "      <td>Seed</td>\n",
       "      <td>Seed</td>\n",
       "    </tr>\n",
       "    <tr>\n",
       "      <th>1</th>\n",
       "      <td>Happy Cow Dairy</td>\n",
       "      <td>2018</td>\n",
       "      <td>Mumbai</td>\n",
       "      <td>Agriculture, Farming</td>\n",
       "      <td>571428.57</td>\n",
       "      <td>Seed</td>\n",
       "      <td>Seed</td>\n",
       "    </tr>\n",
       "    <tr>\n",
       "      <th>2</th>\n",
       "      <td>MyLoanCare</td>\n",
       "      <td>2018</td>\n",
       "      <td>Gurgaon</td>\n",
       "      <td>Credit, Financial Services, Lending, Marketplace</td>\n",
       "      <td>928571.43</td>\n",
       "      <td>Series A</td>\n",
       "      <td>Series</td>\n",
       "    </tr>\n",
       "    <tr>\n",
       "      <th>3</th>\n",
       "      <td>PayMe India</td>\n",
       "      <td>2018</td>\n",
       "      <td>Noida</td>\n",
       "      <td>Financial Services, FinTech</td>\n",
       "      <td>28571.43</td>\n",
       "      <td>Angel</td>\n",
       "      <td>Equity</td>\n",
       "    </tr>\n",
       "    <tr>\n",
       "      <th>4</th>\n",
       "      <td>Eunimart</td>\n",
       "      <td>2018</td>\n",
       "      <td>Hyderabad</td>\n",
       "      <td>E-Commerce Platforms, Retail, SaaS</td>\n",
       "      <td>0.00</td>\n",
       "      <td>Seed</td>\n",
       "      <td>Seed</td>\n",
       "    </tr>\n",
       "  </tbody>\n",
       "</table>\n",
       "</div>"
      ],
      "text/plain": [
       "     Company_Brand  Funding_Year HeadQuarter  \\\n",
       "0  TheCollegeFever          2018   Bangalore   \n",
       "1  Happy Cow Dairy          2018      Mumbai   \n",
       "2       MyLoanCare          2018     Gurgaon   \n",
       "3      PayMe India          2018       Noida   \n",
       "4         Eunimart          2018   Hyderabad   \n",
       "\n",
       "                                              Sector  Amount($)     Stage  \\\n",
       "0  Brand Marketing, Event Promotion, Marketing, S...    3571.43      Seed   \n",
       "1                               Agriculture, Farming  571428.57      Seed   \n",
       "2   Credit, Financial Services, Lending, Marketplace  928571.43  Series A   \n",
       "3                        Financial Services, FinTech   28571.43     Angel   \n",
       "4                 E-Commerce Platforms, Retail, SaaS       0.00      Seed   \n",
       "\n",
       "  Funding  \n",
       "0    Seed  \n",
       "1    Seed  \n",
       "2  Series  \n",
       "3  Equity  \n",
       "4    Seed  "
      ]
     },
     "execution_count": 441,
     "metadata": {},
     "output_type": "execute_result"
    }
   ],
   "source": [
    "# Confirm its worked\n",
    "\n",
    "df_combine.head()"
   ]
  },
  {
   "cell_type": "markdown",
   "metadata": {},
   "source": [
    "# Clean the 'Sector' Column"
   ]
  },
  {
   "cell_type": "code",
   "execution_count": 442,
   "metadata": {},
   "outputs": [
    {
     "name": "stdout",
     "output_type": "stream",
     "text": [
      "<class 'pandas.core.series.Series'>\n",
      "RangeIndex: 2718 entries, 0 to 2717\n",
      "Series name: Sector\n",
      "Non-Null Count  Dtype \n",
      "--------------  ----- \n",
      "2718 non-null   object\n",
      "dtypes: object(1)\n",
      "memory usage: 21.4+ KB\n"
     ]
    }
   ],
   "source": [
    "df_combine['Sector'].unique()\n",
    "df_combine['Sector'].info()"
   ]
  },
  {
   "cell_type": "code",
   "execution_count": 452,
   "metadata": {},
   "outputs": [
    {
     "data": {
      "text/plain": [
       "array(['brand marketing, event promotion, marketing, sponsorship, ticketing',\n",
       "       'agriculture, farming',\n",
       "       'credit, financial services, lending, marketplace',\n",
       "       'financial services, fintech',\n",
       "       'e-commerce platforms, retail, saas',\n",
       "       'cloud infrastructure, paas, saas',\n",
       "       'internet, leisure, marketplace', 'market research',\n",
       "       'information services, information technology', 'mobile payments',\n",
       "       'b2b, shoes', 'internet',\n",
       "       'apps, collaboration, developer platform, enterprise software, messaging, productivity tools, video chat',\n",
       "       'food delivery', 'industrial automation',\n",
       "       'automotive, search engine, service industry',\n",
       "       'finance, internet, travel',\n",
       "       'accounting, business information systems, business travel, finance, saas',\n",
       "       'artificial intelligence, product search, saas, service industry, software',\n",
       "       'internet of things, waste management',\n",
       "       'air transportation, freight service, logistics, marine transportation',\n",
       "       'financial services', 'food and beverage', 'autonomous vehicles',\n",
       "       'enterprise software, health care, hospital, parenting, personal health, saas',\n",
       "       'agriculture, analytics, big data, farming',\n",
       "       'logistics, supply chain management',\n",
       "       'financial services, lending',\n",
       "       'automotive, marketplace, online portals',\n",
       "       'artificial intelligence',\n",
       "       'internet of things, telecommunications', 'insurance',\n",
       "       'information technology, logistics, supply chain management',\n",
       "       'blockchain, developer tools, enterprise software',\n",
       "       'industrial automation, logistics, supply chain management',\n",
       "       'food and beverage, food delivery, snack food', 'education',\n",
       "       'e-commerce, fashion, jewelry, retail', 'renewable energy',\n",
       "       'e-learning, education',\n",
       "       'clean energy, cleantech, laundry and dry-cleaning',\n",
       "       'e-commerce, fashion, mobile',\n",
       "       'apps, messaging, navigation, public safety', 'transportation',\n",
       "       'fitness, health care, wellness',\n",
       "       'artificial intelligence, machine learning, saas, virtual assistant',\n",
       "       'hospitality', 'food and beverage, tea',\n",
       "       'media and entertainment, news, outdoors',\n",
       "       'broadcasting, media and entertainment, music, music streaming, video, video streaming',\n",
       "       'b2b, information services, information technology',\n",
       "       'edtech, education, enterprise software, peer to peer',\n",
       "       'health care, medical', 'e-commerce',\n",
       "       'health care, hospital, wellness', nan, 'sports',\n",
       "       'big data, consumer lending, fintech',\n",
       "       'cloud computing, computer, semiconductor',\n",
       "       'health care, medical, pharmaceutical', 'food processing, retail',\n",
       "       'trading platform', \"consumer goods, lifestyle, men's\", 'wellness',\n",
       "       'food and beverage, food processing, nutrition', 'fashion',\n",
       "       'automotive, electric vehicle, energy storage',\n",
       "       'consulting, retail, social',\n",
       "       'biotechnology, life science, pharmaceutical, product research',\n",
       "       'health care',\n",
       "       'credit, financial services, fintech, personal finance',\n",
       "       'communities, coworking, incubators',\n",
       "       'consumer, financial services, fintech',\n",
       "       'consumer applications, information services, location based services, virtual assistant',\n",
       "       'mobile, mobile apps, personalization, test and measurement, web apps',\n",
       "       'education, financial services, fintech',\n",
       "       'advertising, consulting, digital marketing',\n",
       "       'marketplace, real estate, rental property',\n",
       "       'e-learning, internet, video games',\n",
       "       'artificial intelligence, cloud computing, video',\n",
       "       'health care, information technology', 'aerospace',\n",
       "       'e-commerce, fashion, lifestyle',\n",
       "       'artificial intelligence, business intelligence, industrial automation, machine learning',\n",
       "       'home decor, home improvement, home renovation, home services, interior design, smart home',\n",
       "       'edtech, education, information services, saas', 'energy, solar',\n",
       "       'b2b, biometrics, cyber security, fraud detection, saas, security',\n",
       "       'artificial intelligence, social',\n",
       "       'logistics, transportation, travel',\n",
       "       'digital marketing, sem, seo, web development',\n",
       "       'health care, hospital, medical', 'finance, financial services',\n",
       "       'food delivery, food processing, internet',\n",
       "       'e-commerce, food and beverage, internet',\n",
       "       'fitness, food and beverage, health care, nutrition',\n",
       "       'edtech, education, knowledge management',\n",
       "       'apps, beauty, consumer, retail',\n",
       "       'creative agency, crowdfunding, edtech, health care, internet, medical, non profit, personal health',\n",
       "       'consumer lending, financial services, fintech, insurance, lending, mobile payments, payments, wealth management',\n",
       "       'e-learning, education, higher education', 'health diagnostics',\n",
       "       'edtech, education', 'financial services, saas, security',\n",
       "       'banking, finance, financial services, non profit',\n",
       "       'b2b, e-commerce, mobile',\n",
       "       'automotive, electric vehicle, renewable energy', 'e-learning',\n",
       "       'embedded systems, health care, medical, product research',\n",
       "       'apps, e-commerce, internet',\n",
       "       'advertising, human resources, marketing',\n",
       "       'beauty, fitness, home services, internet',\n",
       "       'health care, medical device, public safety',\n",
       "       'food delivery, online portals, restaurants',\n",
       "       'agtech, b2b, supply chain management',\n",
       "       'credit cards, finance, mobile apps, mobile payments, payments',\n",
       "       'software',\n",
       "       'edtech, education, higher education, secondary education',\n",
       "       'manufacturing, retail', 'manufacturing',\n",
       "       'information services, information technology, insurtech',\n",
       "       'consumer lending, fintech', 'internet, social network, tv',\n",
       "       'beauty, health care', 'hospital', 'events',\n",
       "       '3d printing, manufacturing, product design', 'automotive',\n",
       "       'automotive, retail', 'apps, audio', 'automotive, e-commerce',\n",
       "       'digital entertainment, fantasy sports, sports',\n",
       "       'e-learning, edtech, education',\n",
       "       'funding platform, incubators, non profit',\n",
       "       'hospitality, hotel, leisure, travel',\n",
       "       'classifieds, internet, marketplace, rental property',\n",
       "       'banking, e-learning, trading platform',\n",
       "       'e-commerce, mobile, retail',\n",
       "       'artificial intelligence, information technology',\n",
       "       'enterprise resource planning (erp), information services, information technology, real estate',\n",
       "       'banking, finance, financial services',\n",
       "       'audio, mobile, tourism, travel',\n",
       "       'energy, energy storage, infrastructure',\n",
       "       'government, information technology, software',\n",
       "       'information technology',\n",
       "       'education, information technology, internet, mobile, software',\n",
       "       'consumer lending, financial services, lending, personal finance',\n",
       "       'digital media, internet, media and entertainment, online portals, social media',\n",
       "       'business intelligence, customer service, market research, saas',\n",
       "       'credit, financial services, fintech, lending',\n",
       "       'children, education, parenting',\n",
       "       'automotive, battery, energy, energy storage',\n",
       "       'e-commerce, mobile, sharing economy',\n",
       "       'food delivery, organic, organic food', 'mobile', 'rental',\n",
       "       'travel', 'consumer', 'b2b, farming, marketplace',\n",
       "       'wealth management', 'biotechnology',\n",
       "       'education, gaming, training', 'veterinary',\n",
       "       'internet, mobile, social entrepreneurship, telecommunications, wireless',\n",
       "       'health care, hospital, supply chain management',\n",
       "       'tourism, travel', 'hospitality, real estate', 'finance',\n",
       "       'digital media, ebooks, publishing, reading apps',\n",
       "       'consumer electronics, embedded systems, hardware, smart building, software',\n",
       "       'food and beverage, food processing',\n",
       "       'internet, marketplace, shopping',\n",
       "       'analytics, computer vision, enterprise software, machine learning, natural language processing, speech recognition',\n",
       "       'facilities support services',\n",
       "       'automotive, electric vehicle, energy',\n",
       "       'health care, health diagnostics, predictive analytics',\n",
       "       'cloud computing, computer, saas, software',\n",
       "       'fashion, lifestyle, retail', 'medical', 'music streaming',\n",
       "       'finance, impact investing, internet',\n",
       "       'internet, social entrepreneurship', 'retail',\n",
       "       'finance, impact investing, mobile apps',\n",
       "       'cloud computing, computer, software',\n",
       "       'business development, market research, outsourcing',\n",
       "       'health care, hospitality', 'internet, social news, sports',\n",
       "       'human resources', 'finance, financial services, fintech',\n",
       "       'customer service, software, video, video streaming',\n",
       "       'e-commerce, food processing', 'training',\n",
       "       'dietary supplements, food and beverage, health care, organic food, snack food',\n",
       "       'manufacturing, oil and gas, robotics',\n",
       "       'artificial intelligence, computer, machine learning',\n",
       "       'collaboration, communities, coworking, sharing economy',\n",
       "       'big data, edtech, machine learning', 'nanotechnology',\n",
       "       'analytics, audio, digital media, innovation management, internet radio, media and entertainment',\n",
       "       'financial services, lending, peer to peer',\n",
       "       'e-commerce, furniture, home decor, interior design, internet',\n",
       "       'digital media', 'file sharing, personalization, social media',\n",
       "       'home decor, interior design',\n",
       "       'health care, medical device, mobile apps',\n",
       "       'e-commerce, facilities support services, procurement, supply chain management',\n",
       "       'crowdfunding, finance, financial services',\n",
       "       'finance, financial services, insurance',\n",
       "       'children, education, online portals', 'software, virtual reality',\n",
       "       'b2b, food and beverage, food delivery',\n",
       "       'catering, food and beverage, food delivery, food processing',\n",
       "       'food and beverage, snack food', 'automotive, e-commerce, mobile',\n",
       "       'computer, digital marketing, facilities support services, graphic design, internet, mobile apps, social media marketing, web development',\n",
       "       'android, big data, blockchain, cloud computing, edtech, education, information technology, ios, training, web development',\n",
       "       'analytics, crm, loyalty programs, machine learning, marketing automation, retail technology, saas, small and medium businesses',\n",
       "       'delivery, information technology, mobile apps',\n",
       "       'environmental consulting, renewable energy',\n",
       "       'big data, business intelligence, financial services, fintech, personal finance',\n",
       "       'commercial real estate, coworking, office administration, real estate',\n",
       "       'food and beverage, food processing, organic food, snack food',\n",
       "       'apps, health care, internet, mobile apps, personal health',\n",
       "       'digital media, incubators, social entrepreneurship',\n",
       "       'finance, financial services, marketing',\n",
       "       'biotechnology, health care, life science, medical device',\n",
       "       'education, human resources', 'consumer electronics',\n",
       "       'apps, health care, hospital, mobile apps',\n",
       "       'delivery service, logistics, service industry',\n",
       "       'big data, data visualization, logistics, software',\n",
       "       'basketball, cricket, cycling, esports, fitness, golf, health care, hockey, sports, swimming, table tennis, volley ball',\n",
       "       'media and entertainment, news, publishing', 'consulting',\n",
       "       'big data, financial services, machine learning, predictive analytics',\n",
       "       'agriculture, agtech, manufacturing',\n",
       "       'digital media, news, publishing', 'health care, hospital',\n",
       "       'b2b, e-commerce, enterprise',\n",
       "       'fraud detection, information services, security',\n",
       "       'agriculture, agtech, artificial intelligence, internet of things, machine learning',\n",
       "       'cryptocurrency, trading platform',\n",
       "       'finance, fintech, mobile payments', 'wedding',\n",
       "       'e-learning, edtech, education, image recognition, machine learning, stem education',\n",
       "       'consumer goods', 'digital entertainment',\n",
       "       'crowdsourcing, financial services, funding platform, venture capital',\n",
       "       'delivery, drones, geospatial, robotics',\n",
       "       'health care, information technology, management information systems',\n",
       "       'farming',\n",
       "       'business travel, hospitality, hotel, marketplace, tourism, travel accommodations',\n",
       "       'career planning, education, higher education, service industry',\n",
       "       'medical device', 'alternative medicine, health care',\n",
       "       'internet, software',\n",
       "       'dental, elder care, health care, home health care, personal health',\n",
       "       'financial services, insurance, private social networking',\n",
       "       'consumer electronics, e-commerce, e-commerce platforms, electronics, shipping, shopping',\n",
       "       'cleantech', 'advertising, internet, marketing',\n",
       "       'human resources, security, training',\n",
       "       'consumer lending, finance, fintech',\n",
       "       'marketing, social media, video', 'banking', 'food processing',\n",
       "       'apps', 'marketing',\n",
       "       'apps, b2b, freight service, logistics, saas, shipping, supply chain management, transportation',\n",
       "       'digital entertainment, fantasy sports, gaming, sports',\n",
       "       'automotive, last mile transportation, peer to peer, ride sharing',\n",
       "       'commercial, e-learning, education',\n",
       "       'continuing education, edtech, education, skill assessment',\n",
       "       'smart cities, telecommunications', 'internet of things, robotics',\n",
       "       'apps, home services, information services, information technology',\n",
       "       'medical, tourism', 'career planning, education, internet',\n",
       "       'fashion, graphic design, wearables',\n",
       "       'communities, leisure, mobile apps, software',\n",
       "       'automotive, rental, sharing economy',\n",
       "       'energy, environmental consulting, renewable energy, solar',\n",
       "       'information technology, saas, security',\n",
       "       'crowdfunding, financial services, internet',\n",
       "       'customer service, information technology, internet, sales automation',\n",
       "       'advertising, artificial intelligence, digital media, ios, location based services, news, video, video on demand, video streaming',\n",
       "       'credit cards, payments, property insurance, property management, rental property',\n",
       "       'beauty, cosmetics, health care, service industry',\n",
       "       'edtech, education, mobile, tutoring', 'social media, sports',\n",
       "       'biopharma', 'e-commerce, e-commerce platforms, retail',\n",
       "       'e-commerce, fashion, shopping',\n",
       "       'digital entertainment, mobile, pc games',\n",
       "       'finance, financial services, small and medium businesses',\n",
       "       'artificial intelligence, energy, oil and gas',\n",
       "       'computer, fintech, risk management, software',\n",
       "       'apps, financial services, fintech',\n",
       "       \"child care, health care, hospital, medical, women's\",\n",
       "       'agriculture, mobile',\n",
       "       'finance, fintech, payments, property development, rental',\n",
       "       'information services, information technology, mobile, software',\n",
       "       'apps, fitness, health care, mhealth',\n",
       "       'food and beverage, food delivery', 'apps, payments, retail',\n",
       "       'health insurance, insurance, life insurance',\n",
       "       'rental, taxi service, travel',\n",
       "       'e-commerce, e-commerce platforms, internet, retail',\n",
       "       'financial services, professional services',\n",
       "       'customer service, messaging, mobile apps, personalization',\n",
       "       'gaming, ios, sports',\n",
       "       'e-commerce, e-commerce platforms, internet, mobile apps, social media',\n",
       "       'search engine',\n",
       "       'battery, electric vehicle, energy, renewable energy, transportation',\n",
       "       'agriculture, farmers market, farming',\n",
       "       'artificial intelligence, drones, navigation, packaging services, robotics',\n",
       "       'fitness, greentech, internet of things, mobile apps, ride sharing, transportation',\n",
       "       'mobile, software, travel', 'cosmetics',\n",
       "       'consulting, cyber security, network security',\n",
       "       'esports, gaming, video games', 'fashion, jewelry',\n",
       "       'b2b, medical device', 'consumer goods, manufacturing',\n",
       "       'biotechnology, health care, wellness',\n",
       "       'health care, hospital, medical, robotics',\n",
       "       'e-commerce, fitness, health care',\n",
       "       'financial services, venture capital', 'accounting, apps, fintech',\n",
       "       'apps, mobile, transportation', 'reading apps',\n",
       "       'energy, renewable energy, solar',\n",
       "       'banking, financial services, fintech', 'apps, education, retail',\n",
       "       'electric vehicle',\n",
       "       'automotive, battery, electric vehicle, manufacturing, mechanical design',\n",
       "       'automotive, e-commerce, marketplace', 'agriculture',\n",
       "       'apps, information services, information technology',\n",
       "       'b2b, marketplace', 'packaging services',\n",
       "       'computer, furniture, software',\n",
       "       'food delivery, hospitality, reservations, restaurants, search engine',\n",
       "       'collaboration, communities, coworking, real estate',\n",
       "       'accounting, banking, finance',\n",
       "       'cloud computing, enterprise software, network hardware, network security, saas',\n",
       "       'information services, internet, logistics, supply chain management, transportation',\n",
       "       'automotive, e-commerce, information services',\n",
       "       'delivery, logistics, transportation',\n",
       "       'automotive, e-commerce platforms, marketplace',\n",
       "       'last mile transportation, railroad, transportation, travel',\n",
       "       'cooking, e-commerce, food and beverage, food delivery, online portals',\n",
       "       'fintech, mobile, mobile payments, payments, retail technology',\n",
       "       'online games, software',\n",
       "       'online portals, property management, rental',\n",
       "       'e-commerce, food and beverage, tea',\n",
       "       'music, social network, video',\n",
       "       'health care, pharmaceutical, wellness',\n",
       "       'delivery service, food and beverage, food delivery',\n",
       "       'hospitality, information technology, travel accommodations',\n",
       "       'biotechnology, diabetes, health care',\n",
       "       'autonomous vehicles, last mile transportation, recreational vehicles, rental',\n",
       "       'finance, financial exchanges, financial services, micro lending',\n",
       "       'analytics, apps, market research',\n",
       "       'e-commerce, e-commerce platforms, furniture, home decor, internet',\n",
       "       'apps, mobile, mobile apps, software',\n",
       "       'news, publishing, social media',\n",
       "       'industrial, industrial automation',\n",
       "       'internet, mobile apps, social network',\n",
       "       'health care, health diagnostics, internet of things, life science, machine learning, medical, medical device',\n",
       "       'e-commerce, furniture, interior design', 'apps, events, news',\n",
       "       'artificial intelligence, human resources, information services, information technology',\n",
       "       'logistics, railroad, transportation',\n",
       "       'dating, private social networking',\n",
       "       'artificial intelligence, machine learning, paas',\n",
       "       'consumer, furniture, home decor, home improvement',\n",
       "       'apps, e-commerce, internet, mobile, ride sharing, transportation',\n",
       "       'health care, health insurance', 'energy, natural resources',\n",
       "       'e-commerce, education, health care',\n",
       "       'apps, health care, pharmaceutical',\n",
       "       'internet, knowledge management',\n",
       "       'credit, finance, fintech, lending, sales automation',\n",
       "       'banking, financial services, internet',\n",
       "       'e-commerce, health care, retail',\n",
       "       'child care, information technology',\n",
       "       'financial services, micro lending',\n",
       "       'e-commerce, retail, shopping',\n",
       "       'food and beverage, snack food, tea',\n",
       "       'delivery service, e-commerce, logistics',\n",
       "       'fashion, lifestyle, rental', 'fantasy sports, mobile, sports',\n",
       "       'beauty, fashion, wellness', 'food and beverage, restaurants, tea',\n",
       "       'fitness, sporting goods, sports',\n",
       "       'food and beverage, food processing, manufacturing',\n",
       "       'e-learning, internet', 'eyewear, internet',\n",
       "       'information technology, mobile, news, operating systems, social media, social news',\n",
       "       'fintech, internet, payments, service industry',\n",
       "       'b2b, business development, internet, marketplace',\n",
       "       'food and beverage, food delivery, internet',\n",
       "       'biotechnology, health care, pharmaceutical', 'ecommerce',\n",
       "       'edtech', 'interior design', 'agritech', 'technology', 'saas',\n",
       "       'ai & tech', 'e-commerce & ar', 'fintech', 'hr tech', 'food tech',\n",
       "       'health', 'healthcare', 'safety tech', 'pharmaceutical',\n",
       "       'insurance technology', 'ai', 'foodtech', 'food', 'iot',\n",
       "       'e-marketplace', 'robotics & ai', 'logistics', 'food & nutrition',\n",
       "       'social media', 'unknown', 'e-sports', 'b2b', 'jewellery',\n",
       "       'b2b supply chain', 'games', 'food & tech', 'accomodation',\n",
       "       'automotive tech', 'legal tech', 'mutual funds', 'cybersecurity',\n",
       "       'automobile', 'healthtech', 'yoga & wellness', 'virtual banking',\n",
       "       'transport & rentals', 'marketing & customer loyalty', 'infratech',\n",
       "       'automobile & technology', 'hygiene management', 'escrow',\n",
       "       'networking platform', 'crowdsourcing', 'food & bevarages',\n",
       "       'fashion startup', 'food industry', 'virtual auditing startup',\n",
       "       'gaming', 'work fulfillment', 'ai startup', 'telecommunication',\n",
       "       'tech startup', 'medtech', 'tyre management', 'cloud company',\n",
       "       'software company', 'venture capitalist', 'renewable player',\n",
       "       'iot startup', 'saas startup', 'aero company', 'marketing company',\n",
       "       'retail startup', 'co-working startup', 'finance company',\n",
       "       'tech company', 'solar monitoring company',\n",
       "       'video sharing platform', 'gaming startup',\n",
       "       'video streaming platform', 'consumer appliances',\n",
       "       'blockchain startup', 'conversational ai platform', 'real estate',\n",
       "       'saas platform', 'ai platform', 'fusion beverages', 'job portal',\n",
       "       'dairy startup', 'content management', 'spacetech', 'ai company',\n",
       "       'photonics startup', 'entertainment', 'scanning app',\n",
       "       'skincare startup', 'food and beverages', 'biotechnology company',\n",
       "       'proptech', 'fitness startup', 'paas startup', 'beverages',\n",
       "       'automobiles', 'deeptech', 'ev startup', 'ar/vr startup',\n",
       "       'recruitment startup', 'qsr startup', 'video platform',\n",
       "       'fertility tech', 'luxury car startup', 'fm', 'nutrition sector',\n",
       "       'tech platform', 'video', 'retail tech', 'heathtech',\n",
       "       'sles and marketing', 'legaltech', 'car service',\n",
       "       'bike marketplace', 'agri tech', 'reatil startup', 'ar platform',\n",
       "       'content marketplace', 'rental space', 'soil-tech',\n",
       "       'ayurveda tech', 'packaging solution startup',\n",
       "       'sanitation solutions', 'home design', 'insuretech',\n",
       "       'solar solution', 'jewellery startup',\n",
       "       'multinational conglomerate company', 'deeptech startup',\n",
       "       'social network', 'publication', 'tech', 'venture capital',\n",
       "       'entreprenurship', 'food devlivery', 'warehouse',\n",
       "       'online financial service', 'eyeglasses', 'battery design',\n",
       "       'online credit management startup', 'beverage', 'traveltech',\n",
       "       'startup laboratory', 'personal care startup',\n",
       "       'customer service company', 'saas\\xa0\\xa0startup',\n",
       "       'marketing startup', 'service industry', 'ar startup',\n",
       "       'hr tech startup', 'automotive startup', 'food startup',\n",
       "       'edtech startup', 'car trade', 'edttech', 'automation',\n",
       "       'solar saas', 'wl & rac protection', 'social commerce',\n",
       "       'home interior services', 'agritech startup', 'api platform',\n",
       "       'deep tech', 'electricity', 'automotive company', 'fmcg',\n",
       "       'insurance tech', 'video personalization', 'biomaterial startup',\n",
       "       'it', 'craft beer', 'investment', 'linguistic spiritual',\n",
       "       'construction', 'battery manufacturer',\n",
       "       'nano distribution network', 'ai health', 'dating app', 'media',\n",
       "       'healthcare/edtech', 'agritech/commerce', 'mobility tech',\n",
       "       'social e-commerce', 'food & logistics', 'nutrition tech', 'hr',\n",
       "       'ar/vr', 'appliance', 'mental health', 'b2b marketplace',\n",
       "       'fashion tech', 'health & wellness', 'cloud kitchen',\n",
       "       'iot/automobile', 'eye wear', 'digital tech', 'data intelligence',\n",
       "       'co-living', 'food & beverages', 'defense tech', 'marketplace',\n",
       "       'construction tech', 'nutrition', 'coworking', 'micro-mobiity',\n",
       "       'auto-tech', 'beauty', 'robotics', 'logitech', 'med tech',\n",
       "       'life sciences', 'retail aggregator', 'deep tech ai', 'biotech',\n",
       "       'blockchain', 'hrtech', 'mobility/transport', 'ai & debt',\n",
       "       'saas/edtech', 'transport', 'co-working', 'insurtech',\n",
       "       'cryptocurrency', 'legal', 'fitness', 'ev',\n",
       "       'supply chain, agritech', 'pharma', 'foodtech & logistics',\n",
       "       'housing', 'data analytics', 'investment tech', 'dairy',\n",
       "       'beauty & wellness', 'travel & saas', 'tourism & ev', 'media tech',\n",
       "       'location analytics', 'e store', 'data science',\n",
       "       'health and fitness', 'interior & decor', 'emobility',\n",
       "       'automation tech', 'media & networking', 'e-market',\n",
       "       'ai & data science', 'travel tech', 'automotive and rentals',\n",
       "       'e-tail', 'ai & media', 'machine learning', 'content marktplace',\n",
       "       'visual media', 'hygiene', 'vr & saas', 'sales & services',\n",
       "       'ai & deep learning', 'housing & rentals', 'estore', 'e tailor',\n",
       "       'e-mobility', 'ad-tech', 'neo-banking', 'transport automation',\n",
       "       'techonology', 'ai robotics', 'preschool daycare', 'food diet',\n",
       "       'b2b agritech', 'e-connect', 'tech hub', 'consultancy', 'pharmacy',\n",
       "       'deisgning', 'taxation', 'automobile technology'], dtype=object)"
      ]
     },
     "execution_count": 452,
     "metadata": {},
     "output_type": "execute_result"
    }
   ],
   "source": [
    "df_combine['Sector'] = df_combine['Sector'].str.lower()\n",
    "\n",
    "df_combine['Sector'].unique()"
   ]
  },
  {
   "cell_type": "code",
   "execution_count": 453,
   "metadata": {},
   "outputs": [],
   "source": [
    "def Sec(row):\n",
    "    \n",
    "    df_combine['Sector'] = df_combine['Sector'].str.lower()\n",
    "\n",
    "\n",
    "    if 'tech' in str(row['Sector']) or 'intern' in str(row['Sector']) or 'video' in str(row['Sector']) or 'data' in str(row['Sector']) or 'app' in str(row['Sector']):\n",
    "        return 'Technology'\n",
    "    if 'financ' in str(row['Sector']) or 'sourc' in str(row['Sector']) or 'currenc' in str(row['Sector']) or 'bank' in str(row['Sector']) or 'pay' in str(row['Sector']):\n",
    "        return 'Finance'\n",
    "    if 'capital' in str(row['Sector']) or 'tax' in str(row['Sector']):\n",
    "        return 'Finance' \n",
    "    if 'educat' in str(row['Sector']):\n",
    "        return 'Education'\n",
    "    if 'trans' in str(row['Sector']) or 'auto' in str(row['Sector']) or 'car' in str(row['Sector']) or 'logistics' in str(row['Sector']):\n",
    "        return 'Transportation'\n",
    "    if 'care' in str(row['Sector']) or 'healt' in str(row['Sector']) or 'fitness' in str(row['Sector']) or 'pharmacy' in str(row['Sector']) :\n",
    "        return 'Health'\n",
    "    if 'network' in str(row['Sector']):\n",
    "        return 'Networking'\n",
    "    if 'inter' in str(row['Sector']) or 'living' in str(row['Sector']) or 'house' in str(row['Sector']) or 'real' in str(row['Sector']) or 'design' in str(row['Sector']):\n",
    "        return 'Real Estate'\n",
    "    if 'social' in str(row['Sector']) or 'entertai' in str(row['Sector']) or 'wellness' in str(row['Sector']):\n",
    "        return 'Social'\n",
    "    if 'food' in str(row['Sector']) or 'beverage' in str(row['Sector']) or 'nutrition' in str(row['Sector']) or 'tea' in str(row['Sector']):\n",
    "        return 'Restaurant'\n",
    "    if 'b2b' in str(row['Sector']):\n",
    "        return 'B2B'\n",
    "    if 'fashion' in str(row['Sector']) or 'beaut' in str(row['Sector']) or 'cosmetic' in str(row['Sector']):\n",
    "        return 'Beauty'\n",
    "    if 'sports' in str(row['Sector']) or 'beaut' in str(row['Sector']):\n",
    "        return 'Sports'\n",
    "    if 'management' in str(row['Sector']) or 'beaut' in str(row['Sector']):\n",
    "        return 'Management'\n",
    "    if 'solution' in str(row['Sector']):\n",
    "        return 'Solutions'\n",
    "    if 'saas' in str(row['Sector']) or 'software' in str(row['Sector']):\n",
    "        return 'SaaS'\n",
    "    if 'marketing' in str(row['Sector']) or 'sales' in str(row['Sector']):\n",
    "        return 'Marketing'\n",
    "    if 'farmi' in str(row['Sector']) or 'culture' in str(row['Sector']):\n",
    "        return 'Farming'\n",
    "    if 'artifi' in str(row['Sector']) or 'ai' in str(row['Sector']):\n",
    "        return 'AI'\n",
    "    if 'research' in str(row['Sector']):\n",
    "        return 'Research'\n",
    "    else:\n",
    "        return 'Others'"
   ]
  },
  {
   "cell_type": "code",
   "execution_count": 454,
   "metadata": {},
   "outputs": [],
   "source": [
    "df_combine['Category'] = df_combine.apply(Sec, axis=1)\n",
    "#df_combine['Sector'] = df_combine.apply(Sec, axis=1)"
   ]
  },
  {
   "cell_type": "code",
   "execution_count": 472,
   "metadata": {},
   "outputs": [
    {
     "data": {
      "text/html": [
       "<div>\n",
       "<style scoped>\n",
       "    .dataframe tbody tr th:only-of-type {\n",
       "        vertical-align: middle;\n",
       "    }\n",
       "\n",
       "    .dataframe tbody tr th {\n",
       "        vertical-align: top;\n",
       "    }\n",
       "\n",
       "    .dataframe thead th {\n",
       "        text-align: right;\n",
       "    }\n",
       "</style>\n",
       "<table border=\"1\" class=\"dataframe\">\n",
       "  <thead>\n",
       "    <tr style=\"text-align: right;\">\n",
       "      <th></th>\n",
       "      <th>Company_Brand</th>\n",
       "      <th>Funding_Year</th>\n",
       "      <th>HeadQuarter</th>\n",
       "      <th>Sector</th>\n",
       "      <th>Amount($)</th>\n",
       "      <th>Stage</th>\n",
       "      <th>Funding</th>\n",
       "      <th>Category</th>\n",
       "    </tr>\n",
       "  </thead>\n",
       "  <tbody>\n",
       "    <tr>\n",
       "      <th>0</th>\n",
       "      <td>TheCollegeFever</td>\n",
       "      <td>2018</td>\n",
       "      <td>Bangalore</td>\n",
       "      <td>Brand marketing, event promotion, marketing, s...</td>\n",
       "      <td>3571.43</td>\n",
       "      <td>Seed</td>\n",
       "      <td>Seed</td>\n",
       "      <td>Marketing</td>\n",
       "    </tr>\n",
       "    <tr>\n",
       "      <th>1</th>\n",
       "      <td>Happy Cow Dairy</td>\n",
       "      <td>2018</td>\n",
       "      <td>Mumbai</td>\n",
       "      <td>Agriculture, farming</td>\n",
       "      <td>571428.57</td>\n",
       "      <td>Seed</td>\n",
       "      <td>Seed</td>\n",
       "      <td>Farming</td>\n",
       "    </tr>\n",
       "    <tr>\n",
       "      <th>2</th>\n",
       "      <td>MyLoanCare</td>\n",
       "      <td>2018</td>\n",
       "      <td>Gurgaon</td>\n",
       "      <td>Credit, financial services, lending, marketplace</td>\n",
       "      <td>928571.43</td>\n",
       "      <td>Series A</td>\n",
       "      <td>Series</td>\n",
       "      <td>Finance</td>\n",
       "    </tr>\n",
       "    <tr>\n",
       "      <th>3</th>\n",
       "      <td>PayMe India</td>\n",
       "      <td>2018</td>\n",
       "      <td>Noida</td>\n",
       "      <td>Financial services, fintech</td>\n",
       "      <td>28571.43</td>\n",
       "      <td>Angel</td>\n",
       "      <td>Equity</td>\n",
       "      <td>Technology</td>\n",
       "    </tr>\n",
       "    <tr>\n",
       "      <th>4</th>\n",
       "      <td>Eunimart</td>\n",
       "      <td>2018</td>\n",
       "      <td>Hyderabad</td>\n",
       "      <td>E-commerce platforms, retail, saas</td>\n",
       "      <td>0.00</td>\n",
       "      <td>Seed</td>\n",
       "      <td>Seed</td>\n",
       "      <td>Saas</td>\n",
       "    </tr>\n",
       "    <tr>\n",
       "      <th>5</th>\n",
       "      <td>Hasura</td>\n",
       "      <td>2018</td>\n",
       "      <td>Bengaluru</td>\n",
       "      <td>Cloud infrastructure, paas, saas</td>\n",
       "      <td>22857.14</td>\n",
       "      <td>Seed</td>\n",
       "      <td>Seed</td>\n",
       "      <td>Saas</td>\n",
       "    </tr>\n",
       "    <tr>\n",
       "      <th>6</th>\n",
       "      <td>Tripshelf</td>\n",
       "      <td>2018</td>\n",
       "      <td>Kalkaji</td>\n",
       "      <td>Internet, leisure, marketplace</td>\n",
       "      <td>228571.43</td>\n",
       "      <td>Seed</td>\n",
       "      <td>Seed</td>\n",
       "      <td>Technology</td>\n",
       "    </tr>\n",
       "    <tr>\n",
       "      <th>7</th>\n",
       "      <td>Hyperdata.IO</td>\n",
       "      <td>2018</td>\n",
       "      <td>Hyderabad</td>\n",
       "      <td>Market research</td>\n",
       "      <td>714285.71</td>\n",
       "      <td>Angel</td>\n",
       "      <td>Equity</td>\n",
       "      <td>Research</td>\n",
       "    </tr>\n",
       "    <tr>\n",
       "      <th>8</th>\n",
       "      <td>Freightwalla</td>\n",
       "      <td>2018</td>\n",
       "      <td>Mumbai</td>\n",
       "      <td>Information services, information technology</td>\n",
       "      <td>0.00</td>\n",
       "      <td>Seed</td>\n",
       "      <td>Seed</td>\n",
       "      <td>Technology</td>\n",
       "    </tr>\n",
       "    <tr>\n",
       "      <th>9</th>\n",
       "      <td>Microchip Payments</td>\n",
       "      <td>2018</td>\n",
       "      <td>Bangalore</td>\n",
       "      <td>Mobile payments</td>\n",
       "      <td>0.00</td>\n",
       "      <td>Seed</td>\n",
       "      <td>Seed</td>\n",
       "      <td>Finance</td>\n",
       "    </tr>\n",
       "  </tbody>\n",
       "</table>\n",
       "</div>"
      ],
      "text/plain": [
       "        Company_Brand  Funding_Year HeadQuarter  \\\n",
       "0     TheCollegeFever          2018   Bangalore   \n",
       "1     Happy Cow Dairy          2018      Mumbai   \n",
       "2          MyLoanCare          2018     Gurgaon   \n",
       "3         PayMe India          2018       Noida   \n",
       "4            Eunimart          2018   Hyderabad   \n",
       "5              Hasura          2018   Bengaluru   \n",
       "6           Tripshelf          2018     Kalkaji   \n",
       "7        Hyperdata.IO          2018   Hyderabad   \n",
       "8        Freightwalla          2018      Mumbai   \n",
       "9  Microchip Payments          2018   Bangalore   \n",
       "\n",
       "                                              Sector  Amount($)     Stage  \\\n",
       "0  Brand marketing, event promotion, marketing, s...    3571.43      Seed   \n",
       "1                               Agriculture, farming  571428.57      Seed   \n",
       "2   Credit, financial services, lending, marketplace  928571.43  Series A   \n",
       "3                        Financial services, fintech   28571.43     Angel   \n",
       "4                 E-commerce platforms, retail, saas       0.00      Seed   \n",
       "5                   Cloud infrastructure, paas, saas   22857.14      Seed   \n",
       "6                     Internet, leisure, marketplace  228571.43      Seed   \n",
       "7                                    Market research  714285.71     Angel   \n",
       "8       Information services, information technology       0.00      Seed   \n",
       "9                                    Mobile payments       0.00      Seed   \n",
       "\n",
       "  Funding    Category  \n",
       "0    Seed   Marketing  \n",
       "1    Seed     Farming  \n",
       "2  Series     Finance  \n",
       "3  Equity  Technology  \n",
       "4    Seed        Saas  \n",
       "5    Seed        Saas  \n",
       "6    Seed  Technology  \n",
       "7  Equity    Research  \n",
       "8    Seed  Technology  \n",
       "9    Seed     Finance  "
      ]
     },
     "execution_count": 472,
     "metadata": {},
     "output_type": "execute_result"
    }
   ],
   "source": [
    "df_combine.head(10)"
   ]
  },
  {
   "cell_type": "code",
   "execution_count": 456,
   "metadata": {},
   "outputs": [
    {
     "data": {
      "text/plain": [
       "array(['Marketing', 'Farming', 'Finance', 'Technology', 'SaaS',\n",
       "       'Research', 'B2B', 'Restaurant', 'Transportation', 'AI', 'Others',\n",
       "       'Education', 'Beauty', 'Social', 'Sports', 'Real Estate', 'Health',\n",
       "       'Management', 'Networking', 'Solutions'], dtype=object)"
      ]
     },
     "execution_count": 456,
     "metadata": {},
     "output_type": "execute_result"
    }
   ],
   "source": [
    "df_combine['Category'].unique()\n",
    "#df_combine['Category'].value_counts()"
   ]
  },
  {
   "cell_type": "markdown",
   "metadata": {},
   "source": [
    "## EDA"
   ]
  },
  {
   "cell_type": "code",
   "execution_count": 457,
   "metadata": {},
   "outputs": [
    {
     "data": {
      "image/png": "[encoded data removed]",
      "text/plain": [
       "<Figure size 640x480 with 1 Axes>"
      ]
     },
     "metadata": {},
     "output_type": "display_data"
    }
   ],
   "source": [
    "# To check the different Stages\n",
    "\n",
    "Stages= df_combine['Funding'].value_counts()[:5]\n",
    "\n",
    "Stages.plot(kind='pie')\n",
    "plt.ylabel(Stages,loc='top')\n",
    "plt.show();\n"
   ]
  },
  {
   "cell_type": "markdown",
   "metadata": {},
   "source": [
    "## To check the top sectors "
   ]
  },
  {
   "cell_type": "code",
   "execution_count": 462,
   "metadata": {},
   "outputs": [
    {
     "data": {
      "image/png": "[encoded data removed]",
      "text/plain": [
       "<Figure size 640x480 with 1 Axes>"
      ]
     },
     "metadata": {},
     "output_type": "display_data"
    }
   ],
   "source": [
    "# To check the top sectors \n",
    "df_combine['Category']= df_combine['Category'].str.capitalize()\n",
    "top_10_sectors =(df_combine['Category'].value_counts()).iloc[:10]\n",
    "\n",
    "top_10_sectors.plot(kind='bar',color='orange')\n",
    "plt.xlabel('Sector',loc='center')\n",
    "plt.ylabel('Frequency')\n",
    "plt.title('Top 10 Startup Sectors in India')\n",
    "plt.show();"
   ]
  },
  {
   "cell_type": "code",
   "execution_count": 464,
   "metadata": {},
   "outputs": [
    {
     "name": "stderr",
     "output_type": "stream",
     "text": [
      "C:\\Users\\Administrator\\AppData\\Local\\Packages\\PythonSoftwareFoundation.Python.3.10_qbz5n2kfra8p0\\LocalCache\\local-packages\\Python310\\site-packages\\seaborn\\categorical.py:486: FutureWarning: Series.__getitem__ treating keys as positions is deprecated. In a future version, integer keys will always be treated as labels (consistent with DataFrame behavior). To access a value by position, use `ser.iloc[pos]`\n",
      "  if np.isscalar(data[0]):\n"
     ]
    },
    {
     "data": {
      "image/png": "[encoded data removed]",
      "text/plain": [
       "<Figure size 800x600 with 1 Axes>"
      ]
     },
     "metadata": {},
     "output_type": "display_data"
    }
   ],
   "source": [
    "Top_Headquarters = df_combine.groupby('HeadQuarter')['Amount($)'].sum()[:10]\n",
    "Top_Headquarters.sort_values(ascending=False)\n",
    "\n",
    "plt.figure(figsize=(8,6))\n",
    "sns.barplot(data=Top_Headquarters);"
   ]
  },
  {
   "cell_type": "code",
   "execution_count": 471,
   "metadata": {},
   "outputs": [
    {
     "data": {
      "image/png": "[encoded data removed]",
      "text/plain": [
       "<Figure size 600x400 with 1 Axes>"
      ]
     },
     "metadata": {},
     "output_type": "display_data"
    }
   ],
   "source": [
    "import matplotlib.pyplot as plt\n",
    "\n",
    "Stage = df_combine.groupby('Category')['Amount($)'].sum()\n",
    "\n",
    "plt.figure(figsize=(6,4))\n",
    "plt.plot(data='Stage')\n",
    "plt.xlabel('Stage')\n",
    "plt.ylabel('Amount($)')\n",
    "plt.title('Total Amount($) by Stage')\n",
    "plt.show()\n"
   ]
  }
 ],
 "metadata": {
  "kernelspec": {
   "display_name": "Python 3",
   "language": "python",
   "name": "python3"
  },
  "language_info": {
   "codemirror_mode": {
    "name": "ipython",
    "version": 3
   },
   "file_extension": ".py",
   "mimetype": "text/x-python",
   "name": "python",
   "nbconvert_exporter": "python",
   "pygments_lexer": "ipython3",
   "version": "3.10.11"
  },
  "orig_nbformat": 4
 },
 "nbformat": 4,
 "nbformat_minor": 2
}
